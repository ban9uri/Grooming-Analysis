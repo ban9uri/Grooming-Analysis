{
  "nbformat": 4,
  "nbformat_minor": 0,
  "metadata": {
    "colab": {
      "provenance": []
    },
    "kernelspec": {
      "name": "python3",
      "display_name": "Python 3"
    },
    "language_info": {
      "name": "python"
    }
  },
  "cells": [
    {
      "cell_type": "code",
      "source": [
        "#통합검색/정확도순\n",
        "\n",
        "import pandas as pd\n",
        "import time\n",
        "import requests, re\n",
        "from bs4 import BeautifulSoup\n",
        "from IPython.core.display import display, HTML\n",
        " \n",
        "#봇 차단을 위한 헤더 설정\n",
        "headers = {\n",
        "    \"Connection\" : \"keep-alive\",\n",
        "    \"Cache-Control\" : \"max-age=0\",\n",
        "    \"sec-ch-ua-mobile\" : \"?0\",\n",
        "    \"DNT\" : \"1\",\n",
        "    \"Upgrade-Insecure-Requests\" : \"1\",\n",
        "    \"User-Agent\" : \"Mozilla/5.0 (Windows NT 10.0; Win64; x64) AppleWebKit/537.36 (KHTML, like Gecko) Chrome/90.0.4430.93 Safari/537.36\",\n",
        "    \"Accept\" : \"text/html,application/xhtml+xml,application/xml;q=0.9,image/avif,image/webp,image/apng,*/*;q=0.8,application/signed-exchange;v=b3;q=0.9\",\n",
        "    \"Sec-Fetch-Site\" : \"none\",\n",
        "    \"Sec-Fetch-Mode\" : \"navigate\",\n",
        "    \"Sec-Fetch-User\" : \"?1\",\n",
        "    \"Sec-Fetch-Dest\" : \"document\",\n",
        "    \"Accept-Encoding\" : \"gzip, deflate, br\",\n",
        "    \"Accept-Language\" : \"ko-KR,ko;q=0.9\"\n",
        "    }\n",
        "\n",
        "#글 파싱 함수\n",
        "def article_parse(pageNum, keyword):\n",
        "    url = f\"https://search.dcinside.com/post/p/{pageNum}/sort/accuracy/q/{keyword}\"\n",
        "    res = requests.get(url, headers=headers)\n",
        "    soup = BeautifulSoup(res.text, \"lxml\")\n",
        "    article_list=soup.find_all(\"p\",class_=\"link_dsc_txt\")\n",
        "\n",
        "# #1: 갤러리, 작성시기까지\n",
        "#     for i in range(50):\n",
        "#       print(article_list[i].text.strip())\n",
        "\n",
        "#2\n",
        "    dclist=[]\n",
        "    newlist=[]\n",
        "    for i in range (50):\n",
        "      dclist.append(article_list[i].text)\n",
        "    for i in range (25):\n",
        "      newlist.append(dclist[2*i])\n",
        "    print(newlist)\n",
        "\n",
        "keyword = \"그루밍족\"\n",
        " \n",
        "for i in range(1,10):  #1페이지~40페이지  page당 25개, 1000개\n",
        " article_parse(i, keyword)"
      ],
      "metadata": {
        "colab": {
          "base_uri": "https://localhost:8080/",
          "height": 433
        },
        "id": "x89Weh9of3-k",
        "outputId": "eb4c77f8-3aa5-47a8-b0da-44d1c43a1dd6"
      },
      "execution_count": null,
      "outputs": [
        {
          "output_type": "stream",
          "name": "stdout",
          "text": [
            "['별생각 없다가도 하고싶어진다니까 물론 망한사람은 안올리거나 올려도 병원 신고로 글삭되겠지만', '왜 자꾸 촌티난다고 구래 본인도 그거 알고 엄청 꾸미는거 같던데 꾸미는걸 보란말이야 검정고무신 너무 마상일듯 신발 옷은 기본값이라고 해도 팔찌까지 명품으로 했는데 검정 고무신 ㅋㅋㅋㅋㅋㅋ 정민 여기...', '옷잘입고 능력있는 그루밍족들이 크리스마스에 연애한다고 소수의 일본오타쿠들이 시위하더라 즉 일본은 평소에 집에만 있는 오타쿠들이 소비를 많이 해서 애니메이션이 흥행 1위 하고 애니메이션 OST가 오리콘...', 'ㅇ', '대형병원들 후기 목록 보면 다 똑같이 글에 좋아요가 45-47개 고정임 유명한 병원들 다 검색 해봣는데 다 좋아요 똑같네 ㄷㄷ - dc official App', '매일 해야합니다. 두피의 위생상태는 탈모와의 연관성도 큽니다. 11. 칫솔, 샤워타올도 적어도 2달에 한번씩은 갈아주는게 좋습니다. 세균이 번식하기 정말 좋은 곳입니다. 새싹 그루밍족이 알면 좋은 정보 .txt', '12년사이에 외관적인 모습이 많이 바뀌셨네', \"머리정리하고 옷 멀쩡한거 입고다니는거 도태된 사람 아닌이상 당연한 예의인데 자댕이들이 하면 '그루밍족'씩이나되고 여자들이 화장 좀 안하고 머리 짧게치면 탈코메갈련이라고 부르면서 개자들거리노 진짜 씹...\", '그루밍족 많아지면 많아질수록 내 외모 백분위 낮아지니까 외모에 신경끄거라 ^^ - dc official App', '기본카메라로 찍은놈들는 뭐 전이나 후나 별 차이가 없냐 어플은 거르고 안보고 잇거든', '외모관리하는 남자들을 그루밍족이라 한다던데 존나 한남 자기모에화 같음 커여운 냥이를 어디다 부벼', '도언 장사 그루밍족일세,, 역시 남자는 가꾸기 나름 으욕~ 의욕입니데이', '지금 떡밥이 제모 떡밥이라 ㅈ같은 사람도 있는건 맞겠는데 털 다듬는거 ㄹㅇ 필요하긴 하지 일단 나도 눈썹문신은 했고 주기적으로 다듬어는 주고 기본적으로 반바지 입는것도 싫어하고 그 이유가 털때문이므로...', '그건 우리가 게이이기 때문에 인식이 그렇게 되는거임. 요즘 ㅍㅌㅊ 이상 헤남들 너도나도 다 관리해 그루밍족이다 뭐다 유행 시작하면서ㅇㅇ 눈썹은 기본이고 헤남들 눈썹관리뿐만 아니라 눈썹문신도 함. 여친들...', '어울리는 곳인 거 같다만 디ㅁ는 그나마 거기보다 쓰레기 수준은 아닌 거 같고 꾸미는 데 관심 많고 그루밍족들도 확실히 많음 트렌드도 잘 알고 저 위 사이트보다는야 그나마 건전한 느낌 그 속은 내가 거기...', '자집자집함', '원 넘게 쓴 것 같은데 아 시즌중에 자리는 많음 ㅋㅋㅋㅋ 이건 타팀 대비 대체불가 인정. 일로 비교하자면 그루밍족 다니는 회사에는 일도 존나게 못해서 동료직원 힘들게 하고 개선의 의지도 없고 회사 내부...', '나름 엄청 시간들이던데', '외힙충, 락덕, 오타쿠녀, 그루밍족 남성.. 등등 얘네들이 대한민국 문화 전반을 이끌어간다고 보면 됨 멜지벅플 유튭뮤직 듣는 일반인들과는 결이 다름', '못 하고 번식욕을 완전 상실하게 됨 인구가 줄어 환경이 복구 된다해도 젊은시절 경험으로 인해 부양의지를 되찾지 못 함 대충 그루밍족 되었다 이기 이것도 감응유전처럼 유사실험 취급 받는것도 똑같네 ㅋㅋㅋ', '눈쪽이 항상 아라 번진것처섬 시커멓던데 눈화장 하는거냐? 현숙이 옷입은거 칭찬하던데 겉보기엔 그냥 시골 촌놈같았는데 은근 그루밍족이었노', '말하는거 개웃기네 ㅋㅋㅋㅋ', '화환 좀 그만 달라해 그루밍족 씹새끼야', '담배빵 맞자 걍 ㄹㅇ', '돌아가야됨? 필름 붙이기 단련? 일단 둘다 합격했는데 나름 잘 숨기고있다고 생각해서 hrt는 4년차구 고적도 한지 꽤 됐는데 그냥 마르고 곱상한 그루밍족 남자?정도로 본것같은디 면접본 곳은 다 합격하드라구...']\n",
            "[\"【서울=뉴시스】박주연 기자 = 삼성전자 이재용 부회장이 지난 6일 '최순실 국정농단 진상규명' 국정조사특위 청문회 중 조심스럽게 립밤을 바르는 장면이 포착되면서 '이재용립밤'이 화제다. 이 부회장은 이날...\", '그렇다고 자연인ㅌㅊ한남콘이 좋단건 아냐', '남자들보다 똑똑해졌다는게 느껴지네 옛날의 20~30대 그러니깐 지금의 40~50대들은 보빨에 미쳐있었는데 요즘의 20~30대들은 믹타우라던지 그루밍족이라던지 하면서 현명하게 살고 있는게 느껴짐 - dc official App', '눈썹 그림?', '건 남자랑 똑같은거야. 누가 나이 먹을대로 먹고 이기심으로 똘똘 뭉친 30대 아저씨를 좋아하겠노 한녀 무시하지마라. 한녀들 안 죽었다 화이팅하자 이기야 그럴수록 대출 더받아서 영끌 가즈아 그루밍족 가즈아', '화장품좀 사려고 하는데 프라이머는 엠도씨껄로 정햇는데 xtm 올인원 쿠션 vs 아이오페 맨 에어쿠션 뭐가 더 갠찬을까..? 후기보나 xtm이 더 갠찬았다는것도 잇고 xtm꺼 사면 프라이머랑 한번에 사니까 편하기도...', 'http://egosi.hackers.com/site/event/2020/1005/?_ga=2.7426290.1319966267.1602080406-*******836.1602080406 그동안 스킨이랑 로션 클렌징폼 이 3가지 그것도 아무거나 썼는데 피부가 안 좋은 거 같아서 지금...', 'ㄹㅎ', '사람들 시선이 신경 쓰이기 때문에 더 번듯하게 하려고 한다 사회시선을 알다보니 최대한 멋있게 보여야한다는 의무감 같은 것도 있음 찌질하게 다니면 솔직히 좁은 바닥에 소문나고 안좋게 본다 평균적인 커트...', '살면서 바디로션 바른적 한번도 없는데 슬슬 발라야할 것 같다 많이 안 끈적이는걸로 추천 ㄱ다', '선수 폼저하로 인해 결국 기대했던 플레이를 제대로 못보여주고 광탈했는데 이정도면 잘한거 아니냐면서 감싸줘야한다고 경기력 비판하는애들한테 뭐라고 하던데.. 난 진짜 이해가 좀 안된다 경기력 비판하는 애...', '존못이니 갤주들 보기 미안해서 뷰티 유튜버들 영상 보고 외모 좀 꾸며볼려고 관심 가진 이후로 클렌징폼, 바디로션, 보습 크림, 미스트, 핸드크림, 향수 이런거 존나 관심 가네... 예전엔 그냥 비누로 세수하고...', '한달만에 다시 더러워짐 ㅋㅋㅋㅋㅋㅋㅋㅋㅋ', '남자가 너무 꾸미면 왤케 거부감 드냐. 내 본진이 옷을 맨날 돌려입는 것도 입덕 요소 중 하나임. 장신구 주렁주렁하고 귀 뚫고 화장하는 거 별로. 촬영이나 결혼식 같은 특별한 날 아니면 못 봐주겠음. 머리...', '화장하고 그런건 아니고 얼굴 점 빼고 눈썹 문신하고 브라질리언 왁싱하고 머리스타일도 좀 안해봤던거 해보고 할 예정 근데 다 첨해보는것들이라 정보가 없어서 좀 불안함', '162면 그냥 그루밍 하지마라', '없는 경우가 많아 그런데 이제 결혼을 강제하는 분위기에서 차츰 벗어나고 욜로족이 등장하니까 남자 그루밍족이 등장하더라구 남자도 돈쓰면 쓸수가 있음 단지 그동안 가스라이팅 오지게 당해서 인싸에, 돈...', '옷,피부,헤어,몸 관리 열심히 해서 훈남처럼 보이는 남자들. 대학땐 교양 수업 때 가끔 보였는데, 공무원 현직 중에도 볼 수 있니?', '여기분들이 잘 알거같다고해서 질문 하나 하려고 왔습니다. 제가 수염이 듬성듬성나서 미녹시딜을 수염부분에 바를려고하는데 발라도 되는건가요?', '메이크업 하는 시대야 남자도 미용에 대한 욕구가 늘고있어 자기 잘 챙겨주고 가꾸고 꾸미고 ㄷㄱㄱㄱㄱㄱㄱㄱ', '요즘 젊은 남자들 자기 얼굴,옷,몸 꾸미는 사람들 종종 있잖아.그런 남자 공무원들 있음?', '피부관리 제모 좆되게 하긔 읍냔줄 알았는데 봊못사 걸려서 그루밍족으로 생각중이긔', '아저씨 살 장착하고 네일받고 발 관리받고 하는건 아무짝에 쓸모없지않냐? 체고의 성형은 웨이트거늘 - dc official App', '이새끼들아!!! 요샌 남자도 꾸며야 해 알아?', '그거 하겠다고 하고 결재했는데 알고 보니까 남자만 해당하는거였움 ㅋㅋ 디자이너가 그알못이여서 ㅇㅇ 나 싸게 머리했음 ^^ 캬캬']\n",
            "['그냥 게이라 부름 ㅋㅋㅋㅋ', '바비톡가면 여자후기 너무많아서 남자후기 보기어려운데 바비톡 남자버전 생겼다네요,,,, 성형관심있는 남자분들은 가보시길 ㅋㅋ 물론 브로커는 걸르세요~', '센텀은 여자따윈 안만나 본인을 사랑하며 가꾸기 바빠 - dc official App', '이벤트중이라고 개싸서 가보면 ㅈ구라임 - dc official App', '눈매교정이 디에이 기준 69만원이라던데 이거 가면 절개니 뭐니 하면서 돈 더 받음?', '기초화장세트에 파데,프라이머,컨실러까지 주문해놨음 솔직히 지금 아니면 언제 꾸며보겠냐는 생각이라 산거지만 꼬추새끼도 관리는 해야할것 같아요', '아름답게 꾸밈으로서 불쾌감 유발을 낮추는 착한 유형 3. 화장(티나는 파운데이션 이상 레벨) 그루밍족=자기자신을 관리하는 꼴옵 그루밍족 자체가 대체로 한남들에게 쥐어지는 호칭이므로 일틱할 가능성이 매우높다', '스킨이 피부 진피층까지 들어가게 두드리래서 껐잖아 아ㅋㅋ 고딩과학때 배우는거 아니냐 표피까지만 아ㅋㅋ', 'ㄹㅇ그루밍족임', '스킨로션 목욕탕에서 쓰는 아놀드파머 2500원짜리 씁니닿ㅎㅎㅎㅎㅎㅎㅎㅎㄹㄹ', 'ㅅㅂ 그루밍족부터 시작해서 에타에서도 다 그루밍 쓰는데 내가 왜 게이냐 솔직히 강남 클럽이고 술집이고 번화가고 좀만 잘생겨보이는 애들 대부분이 성형하거나 화장으로 커버치는애들이다', '니베아 맨 크림 아이오페 맨 에어쿠션 페라리 블랙 이니스프리 미스트 이 4가지만 기억해라..', '같은 남자가 보기에 진짜 아니다.. 그루밍족이다 뭐다 하는데 체중관리 피부 입술 각질관리 눈썹정리 깔끔한 옷 이발 면도 이까지는 좋음 눈썹그리고 파데바르고 이건 좀 - dc official App', '그루밍이 고양이가 핥고 정돈하는건줄은 알아서 여자마냥 꾸미는 남자말하는구나 딱 삘옴', '안꾸미는 것보단 꾸미는 남자가 훨씬 경쟁력있지', '여자한정 놀랍게도 아직 수요가 있음 군인이라서 곤란한데스웅 시전했는데 오히려좋아 하길래 연애중임 ㅅㄱ 현실 모를때 낚아채라... 헬창에 그루밍족 아닌 노안 좆돼지몸에 부사관이면 답도없을거같다 씨발...', '눈썹만 바꿔도? 남자 눈썹 정리의 모든 것 카드 닫기 #NOW', '둘다 잘생김 단점이라면 좀 여성적이랄까 남자가 그루밍족이면 좀 깨지 ㅇㅇ', '남자가 토너 스킨 구분하는거 첨 봄', '훈수두면서 평범하게 \"패션\" 관련 갤에서 옷질하는사람 개꼽주고 그러다 좀 안좋은 여론 형성되어서 그루밍족이 까이면 바로 \"그루밍도 안하면서 옷질하는 찐따갤 ㅉㅉ\" 이런식으로 어그로끄는 새끼들이거든요...', '', 'ㄷㄷㄷ 무서워서 살수가 없네 - dc official App', 'http://tvcast.naver.com/v/934504# 손톱깎는데 설레', '틴트 발라볼 생각을 하다니', '남자의 그루밍은 털관리가 끝이라던데 꼬추털 빼고 다 나오네ㅋㅋ']\n",
            "['가격 너무 깎아줘서 오히려 불안한데; 이거 막 대충해주거나 그런거 아니지?', '쁘걸이 우리를 바꿔놓으셨다. - dc official App', '저나이 되면 다아저씨 티 개나고 배나오고 뭐남자는 능력이니어쩌니 해가며 추하게 늙기마련인데 크로스핏 7년에 스타일 단정한거봐라 피부도 관리받는거같고 멋진 40대 그루밍족임', '얼굴에서 윤기가 좌르륵 나더라구요 비결 좀 알려줍쇼 횽님', '뭐 패션이나 꾸미는거 좋아하는 인싸들 말하는건줄 알았는데 ㄷㄷ', '가방에 손거울, 립케어, 기름종이는 항시 기본수납임', '얼마나 더 잘생겨지려고 이 망할 기만자놈들아ㅡㅡㅡ', '뭐 패션이나 꾸미는거 좋아하는 인싸들 말하는건줄 알았는데 ㄷㄷ', '허허..근데 디아이랑 리라?라리 두곳이라는데 걍 내돈주고 유명한 ㅂㅇㅎ좌한테 하는게 낫겠지?', '약 1조 2,000억 원으로 전년 대비 4.1% 증가했으며, 국내 남성 1인이 구매하는 화장품 구매액 ... 그루밍족의 증가...남성성형 비율도 껑충 - 메디팜헬스뉴스 http://www.medipharmhealth.co.kr › news › article...', '막상보면 화장하고 다니는 남자 거의 없다', '성갤 여유야카페 성예사 강남언니 바비톡 그루밍족 등등 싹다봄 배인호나 에이비 수술후기 사진보는곳 추천좀', '바하로션을 계속해서 언급함 자기관리하는 중년이라니 멋지다 - dc official App', '눈썹 정리하는 주기어케됨? - From DC Wave', '믿을만함? 여기보다ㅠ남? - dc official App', '피부는 타고났으니 냅두는데 헤어쪽으론 박사님이네', '돈이나 벌어와라이니야 - dc official App', '상남자는 그냥 한겨울 똥바람 맞으면서 눈꼽만 떼면 됨', '혓바닥으로 몸 핥을 거 같음...', 'https://youtu.be/wFmuXtvq01I', '당장 서면만 가봐도 ㅇㅇ...', '남성 성형외과 추천어플임', '관리하는 남자 - dc official App', '한남 ㅌㅊ에서 아이돌 ㅌㅊ됨', '그것도 모르냐 ㅉㅉ']\n"
          ]
        },
        {
          "output_type": "error",
          "ename": "IndexError",
          "evalue": "ignored",
          "traceback": [
            "\u001b[0;31m---------------------------------------------------------------------------\u001b[0m",
            "\u001b[0;31mIndexError\u001b[0m                                Traceback (most recent call last)",
            "\u001b[0;32m<ipython-input-10-0c3627a5d630>\u001b[0m in \u001b[0;36m<module>\u001b[0;34m\u001b[0m\n\u001b[1;32m     47\u001b[0m \u001b[0;34m\u001b[0m\u001b[0m\n\u001b[1;32m     48\u001b[0m \u001b[0;32mfor\u001b[0m \u001b[0mi\u001b[0m \u001b[0;32min\u001b[0m \u001b[0mrange\u001b[0m\u001b[0;34m(\u001b[0m\u001b[0;36m1\u001b[0m\u001b[0;34m,\u001b[0m\u001b[0;36m10\u001b[0m\u001b[0;34m)\u001b[0m\u001b[0;34m:\u001b[0m  \u001b[0;31m#1페이지~40페이지  page당 25개, 1000개\u001b[0m\u001b[0;34m\u001b[0m\u001b[0;34m\u001b[0m\u001b[0m\n\u001b[0;32m---> 49\u001b[0;31m  \u001b[0marticle_parse\u001b[0m\u001b[0;34m(\u001b[0m\u001b[0mi\u001b[0m\u001b[0;34m,\u001b[0m \u001b[0mkeyword\u001b[0m\u001b[0;34m)\u001b[0m\u001b[0;34m\u001b[0m\u001b[0;34m\u001b[0m\u001b[0m\n\u001b[0m",
            "\u001b[0;32m<ipython-input-10-0c3627a5d630>\u001b[0m in \u001b[0;36marticle_parse\u001b[0;34m(pageNum, keyword)\u001b[0m\n\u001b[1;32m     39\u001b[0m     \u001b[0mnewlist\u001b[0m\u001b[0;34m=\u001b[0m\u001b[0;34m[\u001b[0m\u001b[0;34m]\u001b[0m\u001b[0;34m\u001b[0m\u001b[0;34m\u001b[0m\u001b[0m\n\u001b[1;32m     40\u001b[0m     \u001b[0;32mfor\u001b[0m \u001b[0mi\u001b[0m \u001b[0;32min\u001b[0m \u001b[0mrange\u001b[0m \u001b[0;34m(\u001b[0m\u001b[0;36m50\u001b[0m\u001b[0;34m)\u001b[0m\u001b[0;34m:\u001b[0m\u001b[0;34m\u001b[0m\u001b[0;34m\u001b[0m\u001b[0m\n\u001b[0;32m---> 41\u001b[0;31m       \u001b[0mdclist\u001b[0m\u001b[0;34m.\u001b[0m\u001b[0mappend\u001b[0m\u001b[0;34m(\u001b[0m\u001b[0marticle_list\u001b[0m\u001b[0;34m[\u001b[0m\u001b[0mi\u001b[0m\u001b[0;34m]\u001b[0m\u001b[0;34m.\u001b[0m\u001b[0mtext\u001b[0m\u001b[0;34m)\u001b[0m\u001b[0;34m\u001b[0m\u001b[0;34m\u001b[0m\u001b[0m\n\u001b[0m\u001b[1;32m     42\u001b[0m     \u001b[0;32mfor\u001b[0m \u001b[0mi\u001b[0m \u001b[0;32min\u001b[0m \u001b[0mrange\u001b[0m \u001b[0;34m(\u001b[0m\u001b[0;36m25\u001b[0m\u001b[0;34m)\u001b[0m\u001b[0;34m:\u001b[0m\u001b[0;34m\u001b[0m\u001b[0;34m\u001b[0m\u001b[0m\n\u001b[1;32m     43\u001b[0m       \u001b[0mnewlist\u001b[0m\u001b[0;34m.\u001b[0m\u001b[0mappend\u001b[0m\u001b[0;34m(\u001b[0m\u001b[0mdclist\u001b[0m\u001b[0;34m[\u001b[0m\u001b[0;36m2\u001b[0m\u001b[0;34m*\u001b[0m\u001b[0mi\u001b[0m\u001b[0;34m]\u001b[0m\u001b[0;34m)\u001b[0m\u001b[0;34m\u001b[0m\u001b[0;34m\u001b[0m\u001b[0m\n",
            "\u001b[0;31mIndexError\u001b[0m: list index out of range"
          ]
        }
      ]
    },
    {
      "cell_type": "code",
      "execution_count": null,
      "metadata": {
        "id": "rSEL9-Es_57z"
      },
      "outputs": [],
      "source": [
        "import time\n",
        "import requests, re\n",
        "from bs4 import BeautifulSoup\n",
        "from IPython.core.display import display, HTML\n",
        " \n",
        "#봇 차단을 위한 헤더 설정\n",
        "headers = {\n",
        "    \"Connection\" : \"keep-alive\",\n",
        "    \"Cache-Control\" : \"max-age=0\",\n",
        "    \"sec-ch-ua-mobile\" : \"?0\",\n",
        "    \"DNT\" : \"1\",\n",
        "    \"Upgrade-Insecure-Requests\" : \"1\",\n",
        "    \"User-Agent\" : \"Mozilla/5.0 (Windows NT 10.0; Win64; x64) AppleWebKit/537.36 (KHTML, like Gecko) Chrome/90.0.4430.93 Safari/537.36\",\n",
        "    \"Accept\" : \"text/html,application/xhtml+xml,application/xml;q=0.9,image/avif,image/webp,image/apng,*/*;q=0.8,application/signed-exchange;v=b3;q=0.9\",\n",
        "    \"Sec-Fetch-Site\" : \"none\",\n",
        "    \"Sec-Fetch-Mode\" : \"navigate\",\n",
        "    \"Sec-Fetch-User\" : \"?1\",\n",
        "    \"Sec-Fetch-Dest\" : \"document\",\n",
        "    \"Accept-Encoding\" : \"gzip, deflate, br\",\n",
        "    \"Accept-Language\" : \"ko-KR,ko;q=0.9\"\n",
        "    }\n",
        " \n",
        "#갤러리 타입 가져오기(마이너, 일반)\n",
        "def get_gallary_type(dc_id):\n",
        "    #url로 requests를 보내서 redirect시키는지 체크한다.\n",
        "    url = f'https://gall.dcinside.com/board/lists/?id={dc_id}'\n",
        "    result = url\n",
        "    \n",
        "    res = requests.get(url, headers=headers)\n",
        "    soup = BeautifulSoup(res.text, \"lxml\")\n",
        "    if \"location.replace\" in str(soup):\n",
        "        redirect_url = str(soup).split('\"')[3]\n",
        "        result = redirect_url\n",
        "    if \"mgallery\" in result:\n",
        "        result = \"mgallery/board\"\n",
        "    else:\n",
        "        result = \"board\"\n",
        "        \n",
        "    return result\n",
        " \n",
        "#글 파싱 함수\n",
        "def article_parse(dc_id, keyword):\n",
        "    g_type = get_gallary_type(dc_id)\n",
        "    url = f\"https://gall.dcinside.com/{g_type}/lists/?id={dc_id}&page=1&s_type=search_subject_memo&s_keyword={keyword}\"\n",
        "    res = requests.get(url, headers=headers)\n",
        "    soup = BeautifulSoup(res.text, \"lxml\")\n",
        " \n",
        "    article_list = soup.select(\".us-post\") #글 박스 전부 select\n",
        "    #print(article_list)\n",
        "    for element in article_list:\n",
        "        #글 박스를 하나씩 반복하면서 정보 추출\n",
        "        link = \"https://gall.dcinside.com/\" + element.select(\"a\")[0]['href'].strip()\n",
        "        print(link)\n",
        "        num = element.select(\".gall_num\")[0].text\n",
        "        title = element.select(\".ub-word > a\")[0].text\n",
        "        reply = element.select(\".ub-word > a.reply_numbox > .reply_num\")\n",
        "        if reply : reply = reply[0].text\n",
        "        else : reply = \"\"\n",
        "        nickname = element.select(\".ub-writer\")[0].text.strip()\n",
        "        timestamp = element.select(\".gall_date\")[0].text\n",
        "        refresh = element.select(\".gall_count\")[0].text\n",
        "        recommend = element.select(\".gall_recommend\")[0].text\n",
        " \n",
        "        #print(link, num, title, reply, nickname, timestamp, refresh, recommend)\n",
        "        display(HTML(f'{num} <a href = \"{link}\" target=\"_blank\">{title}</a> {reply} {nickname} {timestamp} {refresh} {recommend}'))\n",
        "    \n",
        " \n",
        "#검색할때 설정해줘야할 것들\n",
        "dc_id = \"mf\"\n",
        "keyword = \"그루밍족\"\n",
        " \n",
        "article_parse(dc_id, keyword)"
      ]
    },
    {
      "cell_type": "code",
      "source": [
        "#통합검색/정확도순\n",
        "\n",
        "import openpyxl\n",
        "import pandas as pd\n",
        "import time\n",
        "import requests, re\n",
        "from bs4 import BeautifulSoup\n",
        "from IPython.core.display import display, HTML\n",
        " \n",
        "#봇 차단을 위한 헤더 설정\n",
        "headers = {\n",
        "    \"Connection\" : \"keep-alive\",\n",
        "    \"Cache-Control\" : \"max-age=0\",\n",
        "    \"sec-ch-ua-mobile\" : \"?0\",\n",
        "    \"DNT\" : \"1\",\n",
        "    \"Upgrade-Insecure-Requests\" : \"1\",\n",
        "    \"User-Agent\" : \"Mozilla/5.0 (Windows NT 10.0; Win64; x64) AppleWebKit/537.36 (KHTML, like Gecko) Chrome/90.0.4430.93 Safari/537.36\",\n",
        "    \"Accept\" : \"text/html,application/xhtml+xml,application/xml;q=0.9,image/avif,image/webp,image/apng,*/*;q=0.8,application/signed-exchange;v=b3;q=0.9\",\n",
        "    \"Sec-Fetch-Site\" : \"none\",\n",
        "    \"Sec-Fetch-Mode\" : \"navigate\",\n",
        "    \"Sec-Fetch-User\" : \"?1\",\n",
        "    \"Sec-Fetch-Dest\" : \"document\",\n",
        "    \"Accept-Encoding\" : \"gzip, deflate, br\",\n",
        "    \"Accept-Language\" : \"ko-KR,ko;q=0.9\"\n",
        "    }\n",
        "\n",
        "#글 파싱 함수\n",
        "def article_parse(pageNum, keyword):\n",
        "    url = f\"https://search.dcinside.com/post/p/{pageNum}/sort/accuracy/q/{keyword}\"\n",
        "    res = requests.get(url, headers=headers)\n",
        "    soup = BeautifulSoup(res.text, \"lxml\")\n",
        "    title_list=soup.find_all(class_=\"tit_txt\")\n",
        "    article_list=soup.find_all(\"p\",class_=\"link_dsc_txt\")\n",
        "\n",
        "#1: 갤러리, 작성시기까지\n",
        "    # for i in range(25):\n",
        "    #   #print(article_list[i].text.strip())\n",
        "    #   print(title_list[i].text.strip()) ##제목\n",
        "\n",
        "#2\n",
        "    dclist=[]\n",
        "    newlist=[]\n",
        "    for i in title_list:\n",
        "      newlist.append(i.text.strip())\n",
        "    for i in range (40):\n",
        "      dclist.append(article_list[i].text)\n",
        "    for i in range (20):\n",
        "      newlist.append(dclist[2*i])\n",
        "    for i in title_list:\n",
        "      newlist.append(i)\n",
        "    print(newlist)\n",
        "    df=pd.DataFrame(newlist)\n",
        "    df.to_excel(excel_writer = str(j)+'.xlsx', sheet_name='new_name', index=False, header=False)\n",
        "keyword = \"그루밍족\"\n",
        " \n",
        "for j in range(10,20):  #1페이지~n-1페이지  page당 25개, 1000개\n",
        " article_parse(j, keyword)\n",
        "\n",
        "\n",
        "\n",
        "\n"
      ],
      "metadata": {
        "id": "ax_Z8NBuaWaP",
        "colab": {
          "base_uri": "https://localhost:8080/"
        },
        "outputId": "5a5e066b-7bf8-48f1-fa50-f9045214475b"
      },
      "execution_count": null,
      "outputs": [
        {
          "output_type": "stream",
          "name": "stdout",
          "text": [
            "['사진 믿을거못되는거 모르냐 ㅉ', '제 목 [감독판소취] 응감 눈화장설', '밀크 입덕 포인트', '걸그룹이 혐오장사?', '내 화장대 ㅁㅌㅊ?jpg', '성형외과는 대체 뭐 보고 감?', '다리털 안밀어도 된다니까', '피부과에 천만원쓴 수지 피부남친vs내츄럴한김제동피부', '연애 한 번은 해봐야 함 ㄹㅇ', '본인 내일 아이브로우 살 예정', '근데 남자가 게이여야만이아니라', '요즘 남자도 화장한다는데 - 밀리시타 마이너 갤러리', '“아재소리 듣기 싫어”…피부 관리하는 꽃중년 - 재테크 마이너 갤러리', '않이 갑자기 빡치내 - 일본 캐릭터 마이너 갤러리', 'ㄹㅇ 근본없는새끼', '공봉이', '요즘 러시아에서 한남뜬대', '남자 반바지 입었을 때 다리털 없으면 더 빙신같은데 ㅋㅋ', '잦미용사 두부류임 똥냐거나 지가 전문적 디자이너라고생각하거나', '개 좆같은단어 발견했다', '면도기 사뜨', '일지해수남 특징', '남자들이 빻은애가 많은게아니고, 안꾸미고 다녀서그럼 - 여자 아이돌 마이너 갤러리', 'ㄹㅇ 지한이 그만괴롭혀;;', '요즘인싸들은 꼭 챙겨보는 유투브.jpg', '본인 그루밍족에 사진사기로 후린건데 뭔 얼굴봅시다여ㅋㅋㅋㅋㅋㅋㅋ - dc official App', '내눈엔 왜 아라그리고 음영섀도로 눈화장한거같지 (눈감았을때 느껴지는 깊은 음영감) 응감 그루밍족..?! 막컷은 남자응감', '깔끔하게 정리된 구렛나루와 광나는 손톱 구랫나루는 진짜 볼때마다 치인다 의외로 그루밍족이었던 것', \"것”이라며 “(1020 남성들이) 운동과 화장을 비롯한 꾸밈노동에 과도한 압력을 받는 이유” '그루밍족’이란 그럴듯한 단어를 만들어놓고 ‘선호’하는 것은 참 쉬운 일입니다만, 그래서 대체 어떤 문제가 해결...\", '요즘에 그루밍족인지 욜로족인지 그거자너 ㄹㅇ류 ㅋㅋ - dc official App', '강언 ㅂㅏ비톡 그루밍족 이벤트 다 봤는데 걍 싼데 가는거? 코 필러 맞을라고', '인싸들이 밀면 자기관리 하는 그루밍족인데 야붕이들이 밀면 게이새끼 밖에 안되자너 - dc official App', '남친으로 여자들은 누가 호감일까? 여자보다 더 관리하고 화장하고 외모 막 꾸미는 그루밍족이랑 돈안쓰는 제동이 피부 이목구비는 둘다 현우급이라 치고', '연애 해서 옷도 관심이 생겼고 그루밍족이 됨 ㄹㅇ 20 03 16 / 90.2 현 아공몸 / 83.3', '그루밍족인지 그루트족인지 돼보려고 ㅇㅇ', '그루밍족이네 머내해서 요즘 지 치장하는데 재미붙인 꼬추놈들 많지않나 내주변에만잇나 향수 시계 차 악세사리 이런거다 친구들이 하니까 나도 하게되던데 - dc official App', '그루밍족 많아져서 남자 화장품도 따로 섹션마련해놓은지 좀 되었는데 너네들은 함??? - dc official App', '패션·뷰티에 투자하는 ‘4050 그루밍족’ 증가 화장품 구매 5배 급증·보정속옷 매출 늘어', '예전애 꾸미는 냄져 그루밍족이라 햇던 거 생각해보니 한남은 얻따 비비노ㅡㅡ', '수염기르는 그루밍족+유부녀 건드는 병신 큰형님이라고 모시는 튜터는 귀큰 병신 ㅋㅋㅋ - dc official App', '환경과 있는 공봉이 보면 얼굴에 비비크림 같은거 한 것 같은데 정말 요즘 남자들도 그루밍족들이 많구나', '코리아 그루밍족 이라고 머리 염색하고 피부화장하는 꾸미는 남성? 이 뜬다고 하긔 러시아가 기회의 땅 ㄱ ㄱ ㄱ', '요즘 그루밍족 거리면서 남자도 화장한다더니 제모까지 에휴..', '후자인경우가 제일노답 미용새주제에 나는 잘생기고 꾸미는 그루밍족+헤어아티스트+봊이랑 대화자주하니깐 인기많은줄암', '그루밍족<~이거뭐냐 씨발???????ㅋㅋㅋㅋㅋㅋ', <a class=\"tit_txt\" href=\"http://gall.dcinside.com/board/view/?id=baseball_new7&amp;no=1392309\" target=\"_blank\">사진 믿을거못되는거 모르냐 ㅉ</a>, <a class=\"tit_txt\" href=\"http://gall.dcinside.com/mgallery/board/view/?id=kbssun&amp;no=122093\" target=\"_blank\">제 목 [감독판소취] 응감 눈화장설</a>, <a class=\"tit_txt\" href=\"https://gall.dcinside.com/board/view/?id=phantom3&amp;no=91077\" target=\"_blank\">밀크 입덕 포인트</a>, <a class=\"tit_txt\" href=\"https://gall.dcinside.com/board/view/?id=muhan&amp;no=2686579\" target=\"_blank\">걸그룹이 혐오장사?</a>, <a class=\"tit_txt\" href=\"http://gall.dcinside.com/board/view/?id=game_classic1&amp;no=2395606\" target=\"_blank\">내 화장대 ㅁㅌㅊ?jpg</a>, <a class=\"tit_txt\" href=\"https://gall.dcinside.com/board/view/?id=plastic_s&amp;no=3417082\" target=\"_blank\">성형외과는 대체 뭐 보고 감?</a>, <a class=\"tit_txt\" href=\"http://gall.dcinside.com/board/view/?id=baseball_new5&amp;no=4019360\" target=\"_blank\">다리털 안밀어도 된다니까</a>, <a class=\"tit_txt\" href=\"http://gall.dcinside.com/board/view/?id=baseball_new7&amp;no=2080649\" target=\"_blank\">피부과에 천만원쓴 수지 피부남친vs내츄럴한김제동피부</a>, <a class=\"tit_txt\" href=\"https://gall.dcinside.com/board/view/?id=diet&amp;no=3669060\" target=\"_blank\">연애 한 번은 해봐야 함 ㄹㅇ</a>, <a class=\"tit_txt\" href=\"https://gall.dcinside.com/mgallery/board/view/?id=fromis9real&amp;no=664350\" target=\"_blank\">본인 내일 아이브로우 살 예정</a>, <a class=\"tit_txt\" href=\"https://gall.dcinside.com/board/view/?id=d_fighter_new1&amp;no=10722177\" target=\"_blank\">근데 남자가 게이여야만이아니라</a>, <a class=\"tit_txt\" href=\"http://gall.dcinside.com/mgallery/board/view/?id=theaterdays&amp;no=848637\" target=\"_blank\">요즘 남자도 화장한다는데 - 밀리시타 마이너 갤러리</a>, <a class=\"tit_txt\" href=\"http://gall.dcinside.com/mgallery/board/view/?id=jaetae&amp;no=164055\" target=\"_blank\">“아재소리 듣기 싫어”…피부 관리하는 꽃중년 - 재테크 마이너 갤러리</a>, <a class=\"tit_txt\" href=\"http://gall.dcinside.com/mgallery/board/view/?id=jcharacter&amp;no=443487\" target=\"_blank\">않이 갑자기 빡치내 - 일본 캐릭터 마이너 갤러리</a>, <a class=\"tit_txt\" href=\"https://gall.dcinside.com/board/view/?id=baseball_ab&amp;no=6048422\" target=\"_blank\">ㄹㅇ 근본없는새끼</a>, <a class=\"tit_txt\" href=\"https://gall.dcinside.com/board/view/?id=gongik_new&amp;no=1570603\" target=\"_blank\">공봉이</a>, <a class=\"tit_txt\" href=\"https://gall.dcinside.com/board/view/?id=w_entertainer&amp;no=3890424\" target=\"_blank\">요즘 러시아에서 한남뜬대</a>, <a class=\"tit_txt\" href=\"http://gall.dcinside.com/board/view/?id=baseball_new5&amp;no=5038227\" target=\"_blank\">남자 반바지 입었을 때 다리털 없으면 더 빙신같은데 ㅋㅋ</a>, <a class=\"tit_txt\" href=\"http://gall.dcinside.com/board/view/?id=m_entertainer1&amp;no=6306811\" target=\"_blank\">잦미용사 두부류임 똥냐거나 지가 전문적 디자이너라고생각하거나</a>, <a class=\"tit_txt\" href=\"https://gall.dcinside.com/board/view/?id=yunha&amp;no=5278046\" target=\"_blank\">개 좆같은단어 발견했다</a>, <a class=\"tit_txt\" href=\"https://gall.dcinside.com/board/view/?id=sogang&amp;no=605330\" target=\"_blank\">면도기 사뜨</a>, <a class=\"tit_txt\" href=\"https://gall.dcinside.com/board/view/?id=divination&amp;no=16354359\" target=\"_blank\">일지해수남 특징</a>, <a class=\"tit_txt\" href=\"http://gall.dcinside.com/mgallery/board/view/?id=girlgroup&amp;no=581534\" target=\"_blank\">남자들이 빻은애가 많은게아니고, 안꾸미고 다녀서그럼 - 여자 아이돌 마이너 갤러리</a>, <a class=\"tit_txt\" href=\"https://gall.dcinside.com/mgallery/board/view/?id=girlgroup&amp;no=9102139\" target=\"_blank\">ㄹㅇ 지한이 그만괴롭혀;;</a>, <a class=\"tit_txt\" href=\"http://gall.dcinside.com/board/view/?id=baseball_new7&amp;no=3809559\" target=\"_blank\">요즘인싸들은 꼭 챙겨보는 유투브.jpg</a>]\n",
            "['곤정 구레나룻에 공 많이 들였네 오늘도ㅋㅋㅋㅋ', '인프제남들아 꾸미는거좋아하냐', '야붕이 라면 끓였는데 휭가좀....jpg', '피부과에 천만원쓴 수지 피부남친vs내츄럴한김제동피부', '아니 ㅆㅂ 어딜봐서 계집애냐?', '워나형 따라 게이가 되볼까', '남자도 화장하는 시대임', '부랄쩐내나는 번개남 만난적 있는데^^', '얘두라 나는 가을웜톤이래~', '자고로 남자는 덮보다 깐이노ㅇ', '게이한테 똥냄새 난다고 하지 마세요', '요즘 풀업은 안하고 그냥 화장만 함', '더벅머리에 과잠 청바지 런닝화', 'ㄹㅇ 젝깅이들 문샷 모델 시켜줘', '남자가화장함 트젠에 게이라니', '피부타입에 맞는거 쓰자!', '일본은 꾸미고 화장하는남자 뉴하프아니면 호빠임ㅋㅋ', '스킨 에센스 로션 수분크림 영양크림 선크림 순서대로바르는놈들 특징.txt', '갓크릿키 덕에 갤넘들 예뻐지겠네', '눈 내리깔면 아이라인만 보인다', '개쩌는 4글자 닉 공개함 바로 생성가능', '우리같은 보추들은... 이런 걸 조심해야 돼...', '너네도 눈썹그리냐', '좃털깍자', '저게 그루밍성범죄인가 그거잖아ㅡㅡ', '안 꼬부라졌다 손질 잘 됐어 섬세한 그루밍족 곤정ㅋㅋㅋㅋ', '내주변에 몇명있는데 다 그루밍족에 외모신경 겁나씀 고데기하고 눈썹관리하고 선크림바르고.. 외모도 다들 여리여리 약간 게이같다고 생각한 친구도있고.. 여자들한테 인기는 다 있었어ㅋㅋ', '크으으... 비록 야식먹지만 건강도 무시하지 못하는 모던 그루밍족 ㅍㅌㅊ??', '남친으로 뭐가나아? 여자보다 더 꾸미는 그루밍족이랑 돈안쓰는 제동이 피부 이목구비는 둘다 현우급이라 치고', '옛말로 메트로섹슈얼가이 요즘말로 그루밍족인데 - dc official App', '그루밍족 1타 드신 거 같은데 저 길을 따라갈까', '그루밍족 ㅌㅌㅌ 물론 저는 유목민정신을 숭상해서 화장 안함', '그날 바로 전용선정제 사서 그루밍족 편입했자나^^.... 본인은 모른다는게 무서운거야', '화장품 추천받아! 나두 이제 그루밍족인가 뭔가 할거야!', '머리ㅇ 확실히 그루밍족은 깐이다ㅇ', '똥꼬 안쪽까지 깨끗히 씻고 다니는 그루밍족임', '그루밍족처럼 옅게 화장만 하고 돌아댕김...', '그루밍족은 나와 2억광년 떨어진 얘기인듯 8in1', '중년 그루밍족 늘고 있음 측면승부ㄱㄱ', '그루밍족이라고 요즘 남자도 비비바르고 눈썹 그리구그래', '그루밍족 남자 많대 요즘 - dc official App', '한국처럼 그루밍족 ㅇㅈㄹ하면서 게이같은나라 몇 안되지', '자기는 그루밍족이라고 착각에 빠짐', '럽갤러들 죄다 그루밍족으로 탈바꿈해주는 갓크릿키!', '조선그루밍족 오바야 - dc official App', <a class=\"tit_txt\" href=\"http://gall.dcinside.com/board/view/?id=jtbc4singer&amp;no=133293\" target=\"_blank\">곤정 구레나룻에 공 많이 들였네 오늘도ㅋㅋㅋㅋ</a>, <a class=\"tit_txt\" href=\"https://gall.dcinside.com/mgallery/board/view/?id=infj&amp;no=11000\" target=\"_blank\">인프제남들아 꾸미는거좋아하냐</a>, <a class=\"tit_txt\" href=\"https://gall.dcinside.com/board/view/?id=baseball_new8&amp;no=16637758\" target=\"_blank\">야붕이 라면 끓였는데 휭가좀....jpg</a>, <a class=\"tit_txt\" href=\"http://gall.dcinside.com/board/view/?id=drama_new2&amp;no=4102456\" target=\"_blank\">피부과에 천만원쓴 수지 피부남친vs내츄럴한김제동피부</a>, <a class=\"tit_txt\" href=\"https://gall.dcinside.com/board/view/?id=loveconsultation&amp;no=6302861\" target=\"_blank\">아니 ㅆㅂ 어딜봐서 계집애냐?</a>, <a class=\"tit_txt\" href=\"https://gall.dcinside.com/board/view/?id=top12&amp;no=1077728\" target=\"_blank\">워나형 따라 게이가 되볼까</a>, <a class=\"tit_txt\" href=\"https://gall.dcinside.com/board/view/?id=iu_new&amp;no=4429626\" target=\"_blank\">남자도 화장하는 시대임</a>, <a class=\"tit_txt\" href=\"http://gall.dcinside.com/board/view/?id=lgbt&amp;no=1604623\" target=\"_blank\">부랄쩐내나는 번개남 만난적 있는데^^</a>, <a class=\"tit_txt\" href=\"https://gall.dcinside.com/mgallery/board/view/?id=dailylife&amp;no=85534\" target=\"_blank\">얘두라 나는 가을웜톤이래~</a>, <a class=\"tit_txt\" href=\"https://gall.dcinside.com/board/view/?id=plastic_s&amp;no=4070238\" target=\"_blank\">자고로 남자는 덮보다 깐이노ㅇ</a>, <a class=\"tit_txt\" href=\"https://gall.dcinside.com/mgallery/board/view/?id=vespa&amp;no=983843\" target=\"_blank\">게이한테 똥냄새 난다고 하지 마세요</a>, <a class=\"tit_txt\" href=\"http://gall.dcinside.com/board/view/?id=yjrs&amp;no=763795\" target=\"_blank\">요즘 풀업은 안하고 그냥 화장만 함</a>, <a class=\"tit_txt\" href=\"http://gall.dcinside.com/board/view/?id=lovelyz&amp;no=1005678\" target=\"_blank\">더벅머리에 과잠 청바지 런닝화</a>, <a class=\"tit_txt\" href=\"http://gall.dcinside.com/board/view/?id=6kies&amp;no=2045513\" target=\"_blank\">ㄹㅇ 젝깅이들 문샷 모델 시켜줘</a>, <a class=\"tit_txt\" href=\"http://gall.dcinside.com/board/view/?id=food&amp;no=1085746\" target=\"_blank\">남자가화장함 트젠에 게이라니</a>, <a class=\"tit_txt\" href=\"http://gall.dcinside.com/board/view/?id=loveconsultation&amp;no=4888927\" target=\"_blank\">피부타입에 맞는거 쓰자!</a>, <a class=\"tit_txt\" href=\"https://gall.dcinside.com/board/view/?id=football_new6&amp;no=8536949\" target=\"_blank\">일본은 꾸미고 화장하는남자 뉴하프아니면 호빠임ㅋㅋ</a>, <a class=\"tit_txt\" href=\"http://gall.dcinside.com/board/view/?id=cosmetic&amp;no=962799\" target=\"_blank\">스킨 에센스 로션 수분크림 영양크림 선크림 순서대로바르는놈들 특징.txt</a>, <a class=\"tit_txt\" href=\"http://gall.dcinside.com/board/view/?id=lovelyz&amp;no=964220\" target=\"_blank\">갓크릿키 덕에 갤넘들 예뻐지겠네</a>, <a class=\"tit_txt\" href=\"https://gall.dcinside.com/board/view/?id=nokdujeon&amp;no=15848\" target=\"_blank\">눈 내리깔면 아이라인만 보인다</a>, <a class=\"tit_txt\" href=\"https://gall.dcinside.com/board/view/?id=maplestory&amp;no=15932256\" target=\"_blank\">개쩌는 4글자 닉 공개함 바로 생성가능</a>, <a class=\"tit_txt\" href=\"https://gall.dcinside.com/mgallery/board/view/?id=otokonokozuma&amp;no=602084\" target=\"_blank\">우리같은 보추들은... 이런 걸 조심해야 돼...</a>, <a class=\"tit_txt\" href=\"http://gall.dcinside.com/board/view/?id=cs&amp;no=4226063\" target=\"_blank\">너네도 눈썹그리냐</a>, <a class=\"tit_txt\" href=\"https://gall.dcinside.com/board/view/?id=extra&amp;no=13277081\" target=\"_blank\">좃털깍자</a>, <a class=\"tit_txt\" href=\"http://gall.dcinside.com/board/view/?id=food&amp;no=1561079\" target=\"_blank\">저게 그루밍성범죄인가 그거잖아ㅡㅡ</a>]\n",
            "['[단체짤드컵] 이거 아직 없음?', '김치남들의 문제는 본인이 개빻았다는 사실을 인정을 못함', '비비 바르는애들 당연히 색조화장도하지??', '올리브영에서 핸드크림이랑 발색립밤샀다', '유나 떄문아닌데 고개를 들었을뿐', '블락 면도기 일단 감성좆되네 썅거', '님들 남자 cc크림 어디꺼 씀?', '남자는 눈썹만 정리해도 달라보임', '내나이 26 순정이보고 깨달음을얻음.', '저 이거삼', '소년24 갤러리', '그나저나 내일 다들 이거 바르고 오는거지??', '슬슬 \"파운데이션\" 발라볼까나... ㄹㅇ...', '휘빵이 관리 잘하는 32살 같긔', '완죠씨들 관리하는 남성이네', '신씨가 패션과 미용에 관심이 많다고 하니..', '원래 잘꾸미고 가꾸는애들이 게이나 양성애자많음', '나 남잔데 화장하고 다닌다. ㅍㅌㅊ?', '남잔데 메이크업베이스랑 파데 베이지 23호 쓰는데 ㅁㅌㅊ?', '일본 불매 인증한다.jpg', '게이들이 대부분 몸좋고 피부좋음', '초보 글루밍족은 다이소의 도움좀 받자ㄹㅇ - 여자 아이돌 마이너 갤러리', '그루밍족과 쿼카 중복이면 말해줘', '솔선수범해서 그루밍족이 되라', '아 그루밍족인가 그거? ㅎㅎ', '나도 이제 그루밍족 - dc official App', '사실 그루밍족임 ㅋㅋ;;', '그루밍족 느낌 개좆되네', '저도 그루밍족 할거', '소넨들이여 그루밍족이 됩시다', '내일바로 이니스프리간다 ㅇㅇ 그루밍족될거임', '나도 그루밍족?ㅎㅎ', '소넨들이여 그루밍족이 됩시다', '그루밍족 멋져부러', 'ㄹㅇ 그루밍족이 되어보자~~', '그루밍족', '이시대의 그루밍족들', '그루밍족인가?', '그루밍족', '그루밍족이야', '그루밍족임', '그루밍족nida.', <a class=\"tit_txt\" href=\"https://gall.dcinside.com/mgallery/board/view/?id=rabidance4&amp;no=11978\" target=\"_blank\">[단체짤드컵] 이거 아직 없음?</a>, <a class=\"tit_txt\" href=\"http://gall.dcinside.com/board/view/?id=etc_program1&amp;no=4885159\" target=\"_blank\">김치남들의 문제는 본인이 개빻았다는 사실을 인정을 못함</a>, <a class=\"tit_txt\" href=\"http://gall.dcinside.com/board/view/?id=baseball_new5&amp;no=9761803\" target=\"_blank\">비비 바르는애들 당연히 색조화장도하지??</a>, <a class=\"tit_txt\" href=\"https://gall.dcinside.com/board/view/?id=depression&amp;no=7134279\" target=\"_blank\">올리브영에서 핸드크림이랑 발색립밤샀다</a>, <a class=\"tit_txt\" href=\"https://gall.dcinside.com/mgallery/board/view/?id=bravegirls0409&amp;no=231855\" target=\"_blank\">유나 떄문아닌데 고개를 들었을뿐</a>, <a class=\"tit_txt\" href=\"http://gall.dcinside.com/board/view/?id=football_new5&amp;no=7672853\" target=\"_blank\">블락 면도기 일단 감성좆되네 썅거</a>, <a class=\"tit_txt\" href=\"http://gall.dcinside.com/board/view/?id=tigers_new&amp;no=3556933\" target=\"_blank\">님들 남자 cc크림 어디꺼 씀?</a>, <a class=\"tit_txt\" href=\"http://gall.dcinside.com/board/view/?id=boys24&amp;no=135699\" target=\"_blank\">남자는 눈썹만 정리해도 달라보임</a>, <a class=\"tit_txt\" href=\"https://gall.dcinside.com/board/view/?id=maplestory&amp;no=10755406\" target=\"_blank\">내나이 26 순정이보고 깨달음을얻음.</a>, <a class=\"tit_txt\" href=\"http://gall.dcinside.com/board/view/?id=japan_entertainment&amp;no=3461123\" target=\"_blank\">저 이거삼</a>, <a class=\"tit_txt\" href=\"http://gall.dcinside.com/mgallery/board/view/?id=boys24&amp;no=135699\" target=\"_blank\">소년24 갤러리</a>, <a class=\"tit_txt\" href=\"http://gall.dcinside.com/board/view/?id=lovelyz&amp;no=983352\" target=\"_blank\">그나저나 내일 다들 이거 바르고 오는거지??</a>, <a class=\"tit_txt\" href=\"https://gall.dcinside.com/board/view/?id=baseball_new8&amp;no=3040182\" target=\"_blank\">슬슬 \"파운데이션\" 발라볼까나... ㄹㅇ...</a>, <a class=\"tit_txt\" href=\"https://gall.dcinside.com/board/view/?id=w_entertainer&amp;no=11364411\" target=\"_blank\">휘빵이 관리 잘하는 32살 같긔</a>, <a class=\"tit_txt\" href=\"https://gall.dcinside.com/board/view/?id=wendy&amp;no=209105\" target=\"_blank\">완죠씨들 관리하는 남성이네</a>, <a class=\"tit_txt\" href=\"http://gall.dcinside.com/board/view/?id=drama_new&amp;no=6618022\" target=\"_blank\">신씨가 패션과 미용에 관심이 많다고 하니..</a>, <a class=\"tit_txt\" href=\"http://gall.dcinside.com/board/view/?id=etc_program2&amp;no=37755\" target=\"_blank\">원래 잘꾸미고 가꾸는애들이 게이나 양성애자많음</a>, <a class=\"tit_txt\" href=\"http://gall.dcinside.com/board/view/?id=etc_program1&amp;no=4722983\" target=\"_blank\">나 남잔데 화장하고 다닌다. ㅍㅌㅊ?</a>, <a class=\"tit_txt\" href=\"http://gall.dcinside.com/board/view/?id=baseball_new5&amp;no=1736164\" target=\"_blank\">남잔데 메이크업베이스랑 파데 베이지 23호 쓰는데 ㅁㅌㅊ?</a>, <a class=\"tit_txt\" href=\"https://gall.dcinside.com/mgallery/board/view/?id=japans&amp;no=9845\" target=\"_blank\">일본 불매 인증한다.jpg</a>, <a class=\"tit_txt\" href=\"https://gall.dcinside.com/board/view/?id=stream&amp;no=849661\" target=\"_blank\">게이들이 대부분 몸좋고 피부좋음</a>, <a class=\"tit_txt\" href=\"http://gall.dcinside.com/mgallery/board/view/?id=girlgroup&amp;no=581287\" target=\"_blank\">초보 <b>글루밍족</b>은 다이소의 도움좀 받자ㄹㅇ - 여자 아이돌 마이너 갤러리</a>]\n",
            "['[단체짤드컵] 이거 아직 없음?', '김치남들의 문제는 본인이 개빻았다는 사실을 인정을 못함', '비비 바르는애들 당연히 색조화장도하지??', '올리브영에서 핸드크림이랑 발색립밤샀다', '유나 떄문아닌데 고개를 들었을뿐', '블락 면도기 일단 감성좆되네 썅거', '님들 남자 cc크림 어디꺼 씀?', '남자는 눈썹만 정리해도 달라보임', '내나이 26 순정이보고 깨달음을얻음.', '저 이거삼', '소년24 갤러리', '그나저나 내일 다들 이거 바르고 오는거지??', '슬슬 \"파운데이션\" 발라볼까나... ㄹㅇ...', '휘빵이 관리 잘하는 32살 같긔', '완죠씨들 관리하는 남성이네', '신씨가 패션과 미용에 관심이 많다고 하니..', '원래 잘꾸미고 가꾸는애들이 게이나 양성애자많음', '나 남잔데 화장하고 다닌다. ㅍㅌㅊ?', '남잔데 메이크업베이스랑 파데 베이지 23호 쓰는데 ㅁㅌㅊ?', '일본 불매 인증한다.jpg', '게이들이 대부분 몸좋고 피부좋음', '초보 글루밍족은 다이소의 도움좀 받자ㄹㅇ - 여자 아이돌 마이너 갤러리', '그루밍족과 쿼카 중복이면 말해줘', '솔선수범해서 그루밍족이 되라', '아 그루밍족인가 그거? ㅎㅎ', '나도 이제 그루밍족 - dc official App', '사실 그루밍족임 ㅋㅋ;;', '그루밍족 느낌 개좆되네', '저도 그루밍족 할거', '소넨들이여 그루밍족이 됩시다', '내일바로 이니스프리간다 ㅇㅇ 그루밍족될거임', '나도 그루밍족?ㅎㅎ', '소넨들이여 그루밍족이 됩시다', '그루밍족 멋져부러', 'ㄹㅇ 그루밍족이 되어보자~~', '그루밍족', '이시대의 그루밍족들', '그루밍족인가?', '그루밍족', '그루밍족이야', '그루밍족임', '그루밍족nida.', <a class=\"tit_txt\" href=\"https://gall.dcinside.com/mgallery/board/view/?id=rabidance4&amp;no=11978\" target=\"_blank\">[단체짤드컵] 이거 아직 없음?</a>, <a class=\"tit_txt\" href=\"http://gall.dcinside.com/board/view/?id=etc_program1&amp;no=4885159\" target=\"_blank\">김치남들의 문제는 본인이 개빻았다는 사실을 인정을 못함</a>, <a class=\"tit_txt\" href=\"http://gall.dcinside.com/board/view/?id=baseball_new5&amp;no=9761803\" target=\"_blank\">비비 바르는애들 당연히 색조화장도하지??</a>, <a class=\"tit_txt\" href=\"https://gall.dcinside.com/board/view/?id=depression&amp;no=7134279\" target=\"_blank\">올리브영에서 핸드크림이랑 발색립밤샀다</a>, <a class=\"tit_txt\" href=\"https://gall.dcinside.com/mgallery/board/view/?id=bravegirls0409&amp;no=231855\" target=\"_blank\">유나 떄문아닌데 고개를 들었을뿐</a>, <a class=\"tit_txt\" href=\"http://gall.dcinside.com/board/view/?id=football_new5&amp;no=7672853\" target=\"_blank\">블락 면도기 일단 감성좆되네 썅거</a>, <a class=\"tit_txt\" href=\"http://gall.dcinside.com/board/view/?id=tigers_new&amp;no=3556933\" target=\"_blank\">님들 남자 cc크림 어디꺼 씀?</a>, <a class=\"tit_txt\" href=\"http://gall.dcinside.com/board/view/?id=boys24&amp;no=135699\" target=\"_blank\">남자는 눈썹만 정리해도 달라보임</a>, <a class=\"tit_txt\" href=\"https://gall.dcinside.com/board/view/?id=maplestory&amp;no=10755406\" target=\"_blank\">내나이 26 순정이보고 깨달음을얻음.</a>, <a class=\"tit_txt\" href=\"http://gall.dcinside.com/board/view/?id=japan_entertainment&amp;no=3461123\" target=\"_blank\">저 이거삼</a>, <a class=\"tit_txt\" href=\"http://gall.dcinside.com/mgallery/board/view/?id=boys24&amp;no=135699\" target=\"_blank\">소년24 갤러리</a>, <a class=\"tit_txt\" href=\"http://gall.dcinside.com/board/view/?id=lovelyz&amp;no=983352\" target=\"_blank\">그나저나 내일 다들 이거 바르고 오는거지??</a>, <a class=\"tit_txt\" href=\"https://gall.dcinside.com/board/view/?id=baseball_new8&amp;no=3040182\" target=\"_blank\">슬슬 \"파운데이션\" 발라볼까나... ㄹㅇ...</a>, <a class=\"tit_txt\" href=\"https://gall.dcinside.com/board/view/?id=w_entertainer&amp;no=11364411\" target=\"_blank\">휘빵이 관리 잘하는 32살 같긔</a>, <a class=\"tit_txt\" href=\"https://gall.dcinside.com/board/view/?id=wendy&amp;no=209105\" target=\"_blank\">완죠씨들 관리하는 남성이네</a>, <a class=\"tit_txt\" href=\"http://gall.dcinside.com/board/view/?id=drama_new&amp;no=6618022\" target=\"_blank\">신씨가 패션과 미용에 관심이 많다고 하니..</a>, <a class=\"tit_txt\" href=\"http://gall.dcinside.com/board/view/?id=etc_program2&amp;no=37755\" target=\"_blank\">원래 잘꾸미고 가꾸는애들이 게이나 양성애자많음</a>, <a class=\"tit_txt\" href=\"http://gall.dcinside.com/board/view/?id=etc_program1&amp;no=4722983\" target=\"_blank\">나 남잔데 화장하고 다닌다. ㅍㅌㅊ?</a>, <a class=\"tit_txt\" href=\"http://gall.dcinside.com/board/view/?id=baseball_new5&amp;no=1736164\" target=\"_blank\">남잔데 메이크업베이스랑 파데 베이지 23호 쓰는데 ㅁㅌㅊ?</a>, <a class=\"tit_txt\" href=\"https://gall.dcinside.com/mgallery/board/view/?id=japans&amp;no=9845\" target=\"_blank\">일본 불매 인증한다.jpg</a>, <a class=\"tit_txt\" href=\"https://gall.dcinside.com/board/view/?id=stream&amp;no=849661\" target=\"_blank\">게이들이 대부분 몸좋고 피부좋음</a>, <a class=\"tit_txt\" href=\"http://gall.dcinside.com/mgallery/board/view/?id=girlgroup&amp;no=581287\" target=\"_blank\">초보 <b>글루밍족</b>은 다이소의 도움좀 받자ㄹㅇ - 여자 아이돌 마이너 갤러리</a>]\n",
            "['[단체짤드컵] 이거 아직 없음?', '김치남들의 문제는 본인이 개빻았다는 사실을 인정을 못함', '비비 바르는애들 당연히 색조화장도하지??', '올리브영에서 핸드크림이랑 발색립밤샀다', '유나 떄문아닌데 고개를 들었을뿐', '블락 면도기 일단 감성좆되네 썅거', '님들 남자 cc크림 어디꺼 씀?', '남자는 눈썹만 정리해도 달라보임', '내나이 26 순정이보고 깨달음을얻음.', '저 이거삼', '소년24 갤러리', '그나저나 내일 다들 이거 바르고 오는거지??', '슬슬 \"파운데이션\" 발라볼까나... ㄹㅇ...', '휘빵이 관리 잘하는 32살 같긔', '완죠씨들 관리하는 남성이네', '신씨가 패션과 미용에 관심이 많다고 하니..', '원래 잘꾸미고 가꾸는애들이 게이나 양성애자많음', '나 남잔데 화장하고 다닌다. ㅍㅌㅊ?', '남잔데 메이크업베이스랑 파데 베이지 23호 쓰는데 ㅁㅌㅊ?', '일본 불매 인증한다.jpg', '게이들이 대부분 몸좋고 피부좋음', '초보 글루밍족은 다이소의 도움좀 받자ㄹㅇ - 여자 아이돌 마이너 갤러리', '그루밍족과 쿼카 중복이면 말해줘', '솔선수범해서 그루밍족이 되라', '아 그루밍족인가 그거? ㅎㅎ', '나도 이제 그루밍족 - dc official App', '사실 그루밍족임 ㅋㅋ;;', '그루밍족 느낌 개좆되네', '저도 그루밍족 할거', '소넨들이여 그루밍족이 됩시다', '내일바로 이니스프리간다 ㅇㅇ 그루밍족될거임', '나도 그루밍족?ㅎㅎ', '소넨들이여 그루밍족이 됩시다', '그루밍족 멋져부러', 'ㄹㅇ 그루밍족이 되어보자~~', '그루밍족', '이시대의 그루밍족들', '그루밍족인가?', '그루밍족', '그루밍족이야', '그루밍족임', '그루밍족nida.', <a class=\"tit_txt\" href=\"https://gall.dcinside.com/mgallery/board/view/?id=rabidance4&amp;no=11978\" target=\"_blank\">[단체짤드컵] 이거 아직 없음?</a>, <a class=\"tit_txt\" href=\"http://gall.dcinside.com/board/view/?id=etc_program1&amp;no=4885159\" target=\"_blank\">김치남들의 문제는 본인이 개빻았다는 사실을 인정을 못함</a>, <a class=\"tit_txt\" href=\"http://gall.dcinside.com/board/view/?id=baseball_new5&amp;no=9761803\" target=\"_blank\">비비 바르는애들 당연히 색조화장도하지??</a>, <a class=\"tit_txt\" href=\"https://gall.dcinside.com/board/view/?id=depression&amp;no=7134279\" target=\"_blank\">올리브영에서 핸드크림이랑 발색립밤샀다</a>, <a class=\"tit_txt\" href=\"https://gall.dcinside.com/mgallery/board/view/?id=bravegirls0409&amp;no=231855\" target=\"_blank\">유나 떄문아닌데 고개를 들었을뿐</a>, <a class=\"tit_txt\" href=\"http://gall.dcinside.com/board/view/?id=football_new5&amp;no=7672853\" target=\"_blank\">블락 면도기 일단 감성좆되네 썅거</a>, <a class=\"tit_txt\" href=\"http://gall.dcinside.com/board/view/?id=tigers_new&amp;no=3556933\" target=\"_blank\">님들 남자 cc크림 어디꺼 씀?</a>, <a class=\"tit_txt\" href=\"http://gall.dcinside.com/board/view/?id=boys24&amp;no=135699\" target=\"_blank\">남자는 눈썹만 정리해도 달라보임</a>, <a class=\"tit_txt\" href=\"https://gall.dcinside.com/board/view/?id=maplestory&amp;no=10755406\" target=\"_blank\">내나이 26 순정이보고 깨달음을얻음.</a>, <a class=\"tit_txt\" href=\"http://gall.dcinside.com/board/view/?id=japan_entertainment&amp;no=3461123\" target=\"_blank\">저 이거삼</a>, <a class=\"tit_txt\" href=\"http://gall.dcinside.com/mgallery/board/view/?id=boys24&amp;no=135699\" target=\"_blank\">소년24 갤러리</a>, <a class=\"tit_txt\" href=\"http://gall.dcinside.com/board/view/?id=lovelyz&amp;no=983352\" target=\"_blank\">그나저나 내일 다들 이거 바르고 오는거지??</a>, <a class=\"tit_txt\" href=\"https://gall.dcinside.com/board/view/?id=baseball_new8&amp;no=3040182\" target=\"_blank\">슬슬 \"파운데이션\" 발라볼까나... ㄹㅇ...</a>, <a class=\"tit_txt\" href=\"https://gall.dcinside.com/board/view/?id=w_entertainer&amp;no=11364411\" target=\"_blank\">휘빵이 관리 잘하는 32살 같긔</a>, <a class=\"tit_txt\" href=\"https://gall.dcinside.com/board/view/?id=wendy&amp;no=209105\" target=\"_blank\">완죠씨들 관리하는 남성이네</a>, <a class=\"tit_txt\" href=\"http://gall.dcinside.com/board/view/?id=drama_new&amp;no=6618022\" target=\"_blank\">신씨가 패션과 미용에 관심이 많다고 하니..</a>, <a class=\"tit_txt\" href=\"http://gall.dcinside.com/board/view/?id=etc_program2&amp;no=37755\" target=\"_blank\">원래 잘꾸미고 가꾸는애들이 게이나 양성애자많음</a>, <a class=\"tit_txt\" href=\"http://gall.dcinside.com/board/view/?id=etc_program1&amp;no=4722983\" target=\"_blank\">나 남잔데 화장하고 다닌다. ㅍㅌㅊ?</a>, <a class=\"tit_txt\" href=\"http://gall.dcinside.com/board/view/?id=baseball_new5&amp;no=1736164\" target=\"_blank\">남잔데 메이크업베이스랑 파데 베이지 23호 쓰는데 ㅁㅌㅊ?</a>, <a class=\"tit_txt\" href=\"https://gall.dcinside.com/mgallery/board/view/?id=japans&amp;no=9845\" target=\"_blank\">일본 불매 인증한다.jpg</a>, <a class=\"tit_txt\" href=\"https://gall.dcinside.com/board/view/?id=stream&amp;no=849661\" target=\"_blank\">게이들이 대부분 몸좋고 피부좋음</a>, <a class=\"tit_txt\" href=\"http://gall.dcinside.com/mgallery/board/view/?id=girlgroup&amp;no=581287\" target=\"_blank\">초보 <b>글루밍족</b>은 다이소의 도움좀 받자ㄹㅇ - 여자 아이돌 마이너 갤러리</a>]\n",
            "['[단체짤드컵] 이거 아직 없음?', '김치남들의 문제는 본인이 개빻았다는 사실을 인정을 못함', '비비 바르는애들 당연히 색조화장도하지??', '올리브영에서 핸드크림이랑 발색립밤샀다', '유나 떄문아닌데 고개를 들었을뿐', '블락 면도기 일단 감성좆되네 썅거', '님들 남자 cc크림 어디꺼 씀?', '남자는 눈썹만 정리해도 달라보임', '내나이 26 순정이보고 깨달음을얻음.', '저 이거삼', '소년24 갤러리', '그나저나 내일 다들 이거 바르고 오는거지??', '슬슬 \"파운데이션\" 발라볼까나... ㄹㅇ...', '휘빵이 관리 잘하는 32살 같긔', '완죠씨들 관리하는 남성이네', '신씨가 패션과 미용에 관심이 많다고 하니..', '원래 잘꾸미고 가꾸는애들이 게이나 양성애자많음', '나 남잔데 화장하고 다닌다. ㅍㅌㅊ?', '남잔데 메이크업베이스랑 파데 베이지 23호 쓰는데 ㅁㅌㅊ?', '일본 불매 인증한다.jpg', '게이들이 대부분 몸좋고 피부좋음', '초보 글루밍족은 다이소의 도움좀 받자ㄹㅇ - 여자 아이돌 마이너 갤러리', '그루밍족과 쿼카 중복이면 말해줘', '솔선수범해서 그루밍족이 되라', '아 그루밍족인가 그거? ㅎㅎ', '나도 이제 그루밍족 - dc official App', '사실 그루밍족임 ㅋㅋ;;', '그루밍족 느낌 개좆되네', '저도 그루밍족 할거', '소넨들이여 그루밍족이 됩시다', '내일바로 이니스프리간다 ㅇㅇ 그루밍족될거임', '나도 그루밍족?ㅎㅎ', '소넨들이여 그루밍족이 됩시다', '그루밍족 멋져부러', 'ㄹㅇ 그루밍족이 되어보자~~', '그루밍족', '이시대의 그루밍족들', '그루밍족인가?', '그루밍족', '그루밍족이야', '그루밍족임', '그루밍족nida.', <a class=\"tit_txt\" href=\"https://gall.dcinside.com/mgallery/board/view/?id=rabidance4&amp;no=11978\" target=\"_blank\">[단체짤드컵] 이거 아직 없음?</a>, <a class=\"tit_txt\" href=\"http://gall.dcinside.com/board/view/?id=etc_program1&amp;no=4885159\" target=\"_blank\">김치남들의 문제는 본인이 개빻았다는 사실을 인정을 못함</a>, <a class=\"tit_txt\" href=\"http://gall.dcinside.com/board/view/?id=baseball_new5&amp;no=9761803\" target=\"_blank\">비비 바르는애들 당연히 색조화장도하지??</a>, <a class=\"tit_txt\" href=\"https://gall.dcinside.com/board/view/?id=depression&amp;no=7134279\" target=\"_blank\">올리브영에서 핸드크림이랑 발색립밤샀다</a>, <a class=\"tit_txt\" href=\"https://gall.dcinside.com/mgallery/board/view/?id=bravegirls0409&amp;no=231855\" target=\"_blank\">유나 떄문아닌데 고개를 들었을뿐</a>, <a class=\"tit_txt\" href=\"http://gall.dcinside.com/board/view/?id=football_new5&amp;no=7672853\" target=\"_blank\">블락 면도기 일단 감성좆되네 썅거</a>, <a class=\"tit_txt\" href=\"http://gall.dcinside.com/board/view/?id=tigers_new&amp;no=3556933\" target=\"_blank\">님들 남자 cc크림 어디꺼 씀?</a>, <a class=\"tit_txt\" href=\"http://gall.dcinside.com/board/view/?id=boys24&amp;no=135699\" target=\"_blank\">남자는 눈썹만 정리해도 달라보임</a>, <a class=\"tit_txt\" href=\"https://gall.dcinside.com/board/view/?id=maplestory&amp;no=10755406\" target=\"_blank\">내나이 26 순정이보고 깨달음을얻음.</a>, <a class=\"tit_txt\" href=\"http://gall.dcinside.com/board/view/?id=japan_entertainment&amp;no=3461123\" target=\"_blank\">저 이거삼</a>, <a class=\"tit_txt\" href=\"http://gall.dcinside.com/mgallery/board/view/?id=boys24&amp;no=135699\" target=\"_blank\">소년24 갤러리</a>, <a class=\"tit_txt\" href=\"http://gall.dcinside.com/board/view/?id=lovelyz&amp;no=983352\" target=\"_blank\">그나저나 내일 다들 이거 바르고 오는거지??</a>, <a class=\"tit_txt\" href=\"https://gall.dcinside.com/board/view/?id=baseball_new8&amp;no=3040182\" target=\"_blank\">슬슬 \"파운데이션\" 발라볼까나... ㄹㅇ...</a>, <a class=\"tit_txt\" href=\"https://gall.dcinside.com/board/view/?id=w_entertainer&amp;no=11364411\" target=\"_blank\">휘빵이 관리 잘하는 32살 같긔</a>, <a class=\"tit_txt\" href=\"https://gall.dcinside.com/board/view/?id=wendy&amp;no=209105\" target=\"_blank\">완죠씨들 관리하는 남성이네</a>, <a class=\"tit_txt\" href=\"http://gall.dcinside.com/board/view/?id=drama_new&amp;no=6618022\" target=\"_blank\">신씨가 패션과 미용에 관심이 많다고 하니..</a>, <a class=\"tit_txt\" href=\"http://gall.dcinside.com/board/view/?id=etc_program2&amp;no=37755\" target=\"_blank\">원래 잘꾸미고 가꾸는애들이 게이나 양성애자많음</a>, <a class=\"tit_txt\" href=\"http://gall.dcinside.com/board/view/?id=etc_program1&amp;no=4722983\" target=\"_blank\">나 남잔데 화장하고 다닌다. ㅍㅌㅊ?</a>, <a class=\"tit_txt\" href=\"http://gall.dcinside.com/board/view/?id=baseball_new5&amp;no=1736164\" target=\"_blank\">남잔데 메이크업베이스랑 파데 베이지 23호 쓰는데 ㅁㅌㅊ?</a>, <a class=\"tit_txt\" href=\"https://gall.dcinside.com/mgallery/board/view/?id=japans&amp;no=9845\" target=\"_blank\">일본 불매 인증한다.jpg</a>, <a class=\"tit_txt\" href=\"https://gall.dcinside.com/board/view/?id=stream&amp;no=849661\" target=\"_blank\">게이들이 대부분 몸좋고 피부좋음</a>, <a class=\"tit_txt\" href=\"http://gall.dcinside.com/mgallery/board/view/?id=girlgroup&amp;no=581287\" target=\"_blank\">초보 <b>글루밍족</b>은 다이소의 도움좀 받자ㄹㅇ - 여자 아이돌 마이너 갤러리</a>]\n",
            "['[단체짤드컵] 이거 아직 없음?', '김치남들의 문제는 본인이 개빻았다는 사실을 인정을 못함', '비비 바르는애들 당연히 색조화장도하지??', '올리브영에서 핸드크림이랑 발색립밤샀다', '유나 떄문아닌데 고개를 들었을뿐', '블락 면도기 일단 감성좆되네 썅거', '님들 남자 cc크림 어디꺼 씀?', '남자는 눈썹만 정리해도 달라보임', '내나이 26 순정이보고 깨달음을얻음.', '저 이거삼', '소년24 갤러리', '그나저나 내일 다들 이거 바르고 오는거지??', '슬슬 \"파운데이션\" 발라볼까나... ㄹㅇ...', '휘빵이 관리 잘하는 32살 같긔', '완죠씨들 관리하는 남성이네', '신씨가 패션과 미용에 관심이 많다고 하니..', '원래 잘꾸미고 가꾸는애들이 게이나 양성애자많음', '나 남잔데 화장하고 다닌다. ㅍㅌㅊ?', '남잔데 메이크업베이스랑 파데 베이지 23호 쓰는데 ㅁㅌㅊ?', '일본 불매 인증한다.jpg', '게이들이 대부분 몸좋고 피부좋음', '초보 글루밍족은 다이소의 도움좀 받자ㄹㅇ - 여자 아이돌 마이너 갤러리', '그루밍족과 쿼카 중복이면 말해줘', '솔선수범해서 그루밍족이 되라', '아 그루밍족인가 그거? ㅎㅎ', '나도 이제 그루밍족 - dc official App', '사실 그루밍족임 ㅋㅋ;;', '그루밍족 느낌 개좆되네', '저도 그루밍족 할거', '소넨들이여 그루밍족이 됩시다', '내일바로 이니스프리간다 ㅇㅇ 그루밍족될거임', '나도 그루밍족?ㅎㅎ', '소넨들이여 그루밍족이 됩시다', '그루밍족 멋져부러', 'ㄹㅇ 그루밍족이 되어보자~~', '그루밍족', '이시대의 그루밍족들', '그루밍족인가?', '그루밍족', '그루밍족이야', '그루밍족임', '그루밍족nida.', <a class=\"tit_txt\" href=\"https://gall.dcinside.com/mgallery/board/view/?id=rabidance4&amp;no=11978\" target=\"_blank\">[단체짤드컵] 이거 아직 없음?</a>, <a class=\"tit_txt\" href=\"http://gall.dcinside.com/board/view/?id=etc_program1&amp;no=4885159\" target=\"_blank\">김치남들의 문제는 본인이 개빻았다는 사실을 인정을 못함</a>, <a class=\"tit_txt\" href=\"http://gall.dcinside.com/board/view/?id=baseball_new5&amp;no=9761803\" target=\"_blank\">비비 바르는애들 당연히 색조화장도하지??</a>, <a class=\"tit_txt\" href=\"https://gall.dcinside.com/board/view/?id=depression&amp;no=7134279\" target=\"_blank\">올리브영에서 핸드크림이랑 발색립밤샀다</a>, <a class=\"tit_txt\" href=\"https://gall.dcinside.com/mgallery/board/view/?id=bravegirls0409&amp;no=231855\" target=\"_blank\">유나 떄문아닌데 고개를 들었을뿐</a>, <a class=\"tit_txt\" href=\"http://gall.dcinside.com/board/view/?id=football_new5&amp;no=7672853\" target=\"_blank\">블락 면도기 일단 감성좆되네 썅거</a>, <a class=\"tit_txt\" href=\"http://gall.dcinside.com/board/view/?id=tigers_new&amp;no=3556933\" target=\"_blank\">님들 남자 cc크림 어디꺼 씀?</a>, <a class=\"tit_txt\" href=\"http://gall.dcinside.com/board/view/?id=boys24&amp;no=135699\" target=\"_blank\">남자는 눈썹만 정리해도 달라보임</a>, <a class=\"tit_txt\" href=\"https://gall.dcinside.com/board/view/?id=maplestory&amp;no=10755406\" target=\"_blank\">내나이 26 순정이보고 깨달음을얻음.</a>, <a class=\"tit_txt\" href=\"http://gall.dcinside.com/board/view/?id=japan_entertainment&amp;no=3461123\" target=\"_blank\">저 이거삼</a>, <a class=\"tit_txt\" href=\"http://gall.dcinside.com/mgallery/board/view/?id=boys24&amp;no=135699\" target=\"_blank\">소년24 갤러리</a>, <a class=\"tit_txt\" href=\"http://gall.dcinside.com/board/view/?id=lovelyz&amp;no=983352\" target=\"_blank\">그나저나 내일 다들 이거 바르고 오는거지??</a>, <a class=\"tit_txt\" href=\"https://gall.dcinside.com/board/view/?id=baseball_new8&amp;no=3040182\" target=\"_blank\">슬슬 \"파운데이션\" 발라볼까나... ㄹㅇ...</a>, <a class=\"tit_txt\" href=\"https://gall.dcinside.com/board/view/?id=w_entertainer&amp;no=11364411\" target=\"_blank\">휘빵이 관리 잘하는 32살 같긔</a>, <a class=\"tit_txt\" href=\"https://gall.dcinside.com/board/view/?id=wendy&amp;no=209105\" target=\"_blank\">완죠씨들 관리하는 남성이네</a>, <a class=\"tit_txt\" href=\"http://gall.dcinside.com/board/view/?id=drama_new&amp;no=6618022\" target=\"_blank\">신씨가 패션과 미용에 관심이 많다고 하니..</a>, <a class=\"tit_txt\" href=\"http://gall.dcinside.com/board/view/?id=etc_program2&amp;no=37755\" target=\"_blank\">원래 잘꾸미고 가꾸는애들이 게이나 양성애자많음</a>, <a class=\"tit_txt\" href=\"http://gall.dcinside.com/board/view/?id=etc_program1&amp;no=4722983\" target=\"_blank\">나 남잔데 화장하고 다닌다. ㅍㅌㅊ?</a>, <a class=\"tit_txt\" href=\"http://gall.dcinside.com/board/view/?id=baseball_new5&amp;no=1736164\" target=\"_blank\">남잔데 메이크업베이스랑 파데 베이지 23호 쓰는데 ㅁㅌㅊ?</a>, <a class=\"tit_txt\" href=\"https://gall.dcinside.com/mgallery/board/view/?id=japans&amp;no=9845\" target=\"_blank\">일본 불매 인증한다.jpg</a>, <a class=\"tit_txt\" href=\"https://gall.dcinside.com/board/view/?id=stream&amp;no=849661\" target=\"_blank\">게이들이 대부분 몸좋고 피부좋음</a>, <a class=\"tit_txt\" href=\"http://gall.dcinside.com/mgallery/board/view/?id=girlgroup&amp;no=581287\" target=\"_blank\">초보 <b>글루밍족</b>은 다이소의 도움좀 받자ㄹㅇ - 여자 아이돌 마이너 갤러리</a>]\n",
            "['[단체짤드컵] 이거 아직 없음?', '김치남들의 문제는 본인이 개빻았다는 사실을 인정을 못함', '비비 바르는애들 당연히 색조화장도하지??', '올리브영에서 핸드크림이랑 발색립밤샀다', '유나 떄문아닌데 고개를 들었을뿐', '블락 면도기 일단 감성좆되네 썅거', '님들 남자 cc크림 어디꺼 씀?', '남자는 눈썹만 정리해도 달라보임', '내나이 26 순정이보고 깨달음을얻음.', '저 이거삼', '소년24 갤러리', '그나저나 내일 다들 이거 바르고 오는거지??', '슬슬 \"파운데이션\" 발라볼까나... ㄹㅇ...', '휘빵이 관리 잘하는 32살 같긔', '완죠씨들 관리하는 남성이네', '신씨가 패션과 미용에 관심이 많다고 하니..', '원래 잘꾸미고 가꾸는애들이 게이나 양성애자많음', '나 남잔데 화장하고 다닌다. ㅍㅌㅊ?', '남잔데 메이크업베이스랑 파데 베이지 23호 쓰는데 ㅁㅌㅊ?', '일본 불매 인증한다.jpg', '게이들이 대부분 몸좋고 피부좋음', '초보 글루밍족은 다이소의 도움좀 받자ㄹㅇ - 여자 아이돌 마이너 갤러리', '그루밍족과 쿼카 중복이면 말해줘', '솔선수범해서 그루밍족이 되라', '아 그루밍족인가 그거? ㅎㅎ', '나도 이제 그루밍족 - dc official App', '사실 그루밍족임 ㅋㅋ;;', '그루밍족 느낌 개좆되네', '저도 그루밍족 할거', '소넨들이여 그루밍족이 됩시다', '내일바로 이니스프리간다 ㅇㅇ 그루밍족될거임', '나도 그루밍족?ㅎㅎ', '소넨들이여 그루밍족이 됩시다', '그루밍족 멋져부러', 'ㄹㅇ 그루밍족이 되어보자~~', '그루밍족', '이시대의 그루밍족들', '그루밍족인가?', '그루밍족', '그루밍족이야', '그루밍족임', '그루밍족nida.', <a class=\"tit_txt\" href=\"https://gall.dcinside.com/mgallery/board/view/?id=rabidance4&amp;no=11978\" target=\"_blank\">[단체짤드컵] 이거 아직 없음?</a>, <a class=\"tit_txt\" href=\"http://gall.dcinside.com/board/view/?id=etc_program1&amp;no=4885159\" target=\"_blank\">김치남들의 문제는 본인이 개빻았다는 사실을 인정을 못함</a>, <a class=\"tit_txt\" href=\"http://gall.dcinside.com/board/view/?id=baseball_new5&amp;no=9761803\" target=\"_blank\">비비 바르는애들 당연히 색조화장도하지??</a>, <a class=\"tit_txt\" href=\"https://gall.dcinside.com/board/view/?id=depression&amp;no=7134279\" target=\"_blank\">올리브영에서 핸드크림이랑 발색립밤샀다</a>, <a class=\"tit_txt\" href=\"https://gall.dcinside.com/mgallery/board/view/?id=bravegirls0409&amp;no=231855\" target=\"_blank\">유나 떄문아닌데 고개를 들었을뿐</a>, <a class=\"tit_txt\" href=\"http://gall.dcinside.com/board/view/?id=football_new5&amp;no=7672853\" target=\"_blank\">블락 면도기 일단 감성좆되네 썅거</a>, <a class=\"tit_txt\" href=\"http://gall.dcinside.com/board/view/?id=tigers_new&amp;no=3556933\" target=\"_blank\">님들 남자 cc크림 어디꺼 씀?</a>, <a class=\"tit_txt\" href=\"http://gall.dcinside.com/board/view/?id=boys24&amp;no=135699\" target=\"_blank\">남자는 눈썹만 정리해도 달라보임</a>, <a class=\"tit_txt\" href=\"https://gall.dcinside.com/board/view/?id=maplestory&amp;no=10755406\" target=\"_blank\">내나이 26 순정이보고 깨달음을얻음.</a>, <a class=\"tit_txt\" href=\"http://gall.dcinside.com/board/view/?id=japan_entertainment&amp;no=3461123\" target=\"_blank\">저 이거삼</a>, <a class=\"tit_txt\" href=\"http://gall.dcinside.com/mgallery/board/view/?id=boys24&amp;no=135699\" target=\"_blank\">소년24 갤러리</a>, <a class=\"tit_txt\" href=\"http://gall.dcinside.com/board/view/?id=lovelyz&amp;no=983352\" target=\"_blank\">그나저나 내일 다들 이거 바르고 오는거지??</a>, <a class=\"tit_txt\" href=\"https://gall.dcinside.com/board/view/?id=baseball_new8&amp;no=3040182\" target=\"_blank\">슬슬 \"파운데이션\" 발라볼까나... ㄹㅇ...</a>, <a class=\"tit_txt\" href=\"https://gall.dcinside.com/board/view/?id=w_entertainer&amp;no=11364411\" target=\"_blank\">휘빵이 관리 잘하는 32살 같긔</a>, <a class=\"tit_txt\" href=\"https://gall.dcinside.com/board/view/?id=wendy&amp;no=209105\" target=\"_blank\">완죠씨들 관리하는 남성이네</a>, <a class=\"tit_txt\" href=\"http://gall.dcinside.com/board/view/?id=drama_new&amp;no=6618022\" target=\"_blank\">신씨가 패션과 미용에 관심이 많다고 하니..</a>, <a class=\"tit_txt\" href=\"http://gall.dcinside.com/board/view/?id=etc_program2&amp;no=37755\" target=\"_blank\">원래 잘꾸미고 가꾸는애들이 게이나 양성애자많음</a>, <a class=\"tit_txt\" href=\"http://gall.dcinside.com/board/view/?id=etc_program1&amp;no=4722983\" target=\"_blank\">나 남잔데 화장하고 다닌다. ㅍㅌㅊ?</a>, <a class=\"tit_txt\" href=\"http://gall.dcinside.com/board/view/?id=baseball_new5&amp;no=1736164\" target=\"_blank\">남잔데 메이크업베이스랑 파데 베이지 23호 쓰는데 ㅁㅌㅊ?</a>, <a class=\"tit_txt\" href=\"https://gall.dcinside.com/mgallery/board/view/?id=japans&amp;no=9845\" target=\"_blank\">일본 불매 인증한다.jpg</a>, <a class=\"tit_txt\" href=\"https://gall.dcinside.com/board/view/?id=stream&amp;no=849661\" target=\"_blank\">게이들이 대부분 몸좋고 피부좋음</a>, <a class=\"tit_txt\" href=\"http://gall.dcinside.com/mgallery/board/view/?id=girlgroup&amp;no=581287\" target=\"_blank\">초보 <b>글루밍족</b>은 다이소의 도움좀 받자ㄹㅇ - 여자 아이돌 마이너 갤러리</a>]\n",
            "['[단체짤드컵] 이거 아직 없음?', '김치남들의 문제는 본인이 개빻았다는 사실을 인정을 못함', '비비 바르는애들 당연히 색조화장도하지??', '올리브영에서 핸드크림이랑 발색립밤샀다', '유나 떄문아닌데 고개를 들었을뿐', '블락 면도기 일단 감성좆되네 썅거', '님들 남자 cc크림 어디꺼 씀?', '남자는 눈썹만 정리해도 달라보임', '내나이 26 순정이보고 깨달음을얻음.', '저 이거삼', '소년24 갤러리', '그나저나 내일 다들 이거 바르고 오는거지??', '슬슬 \"파운데이션\" 발라볼까나... ㄹㅇ...', '휘빵이 관리 잘하는 32살 같긔', '완죠씨들 관리하는 남성이네', '신씨가 패션과 미용에 관심이 많다고 하니..', '원래 잘꾸미고 가꾸는애들이 게이나 양성애자많음', '나 남잔데 화장하고 다닌다. ㅍㅌㅊ?', '남잔데 메이크업베이스랑 파데 베이지 23호 쓰는데 ㅁㅌㅊ?', '일본 불매 인증한다.jpg', '게이들이 대부분 몸좋고 피부좋음', '초보 글루밍족은 다이소의 도움좀 받자ㄹㅇ - 여자 아이돌 마이너 갤러리', '그루밍족과 쿼카 중복이면 말해줘', '솔선수범해서 그루밍족이 되라', '아 그루밍족인가 그거? ㅎㅎ', '나도 이제 그루밍족 - dc official App', '사실 그루밍족임 ㅋㅋ;;', '그루밍족 느낌 개좆되네', '저도 그루밍족 할거', '소넨들이여 그루밍족이 됩시다', '내일바로 이니스프리간다 ㅇㅇ 그루밍족될거임', '나도 그루밍족?ㅎㅎ', '소넨들이여 그루밍족이 됩시다', '그루밍족 멋져부러', 'ㄹㅇ 그루밍족이 되어보자~~', '그루밍족', '이시대의 그루밍족들', '그루밍족인가?', '그루밍족', '그루밍족이야', '그루밍족임', '그루밍족nida.', <a class=\"tit_txt\" href=\"https://gall.dcinside.com/mgallery/board/view/?id=rabidance4&amp;no=11978\" target=\"_blank\">[단체짤드컵] 이거 아직 없음?</a>, <a class=\"tit_txt\" href=\"http://gall.dcinside.com/board/view/?id=etc_program1&amp;no=4885159\" target=\"_blank\">김치남들의 문제는 본인이 개빻았다는 사실을 인정을 못함</a>, <a class=\"tit_txt\" href=\"http://gall.dcinside.com/board/view/?id=baseball_new5&amp;no=9761803\" target=\"_blank\">비비 바르는애들 당연히 색조화장도하지??</a>, <a class=\"tit_txt\" href=\"https://gall.dcinside.com/board/view/?id=depression&amp;no=7134279\" target=\"_blank\">올리브영에서 핸드크림이랑 발색립밤샀다</a>, <a class=\"tit_txt\" href=\"https://gall.dcinside.com/mgallery/board/view/?id=bravegirls0409&amp;no=231855\" target=\"_blank\">유나 떄문아닌데 고개를 들었을뿐</a>, <a class=\"tit_txt\" href=\"http://gall.dcinside.com/board/view/?id=football_new5&amp;no=7672853\" target=\"_blank\">블락 면도기 일단 감성좆되네 썅거</a>, <a class=\"tit_txt\" href=\"http://gall.dcinside.com/board/view/?id=tigers_new&amp;no=3556933\" target=\"_blank\">님들 남자 cc크림 어디꺼 씀?</a>, <a class=\"tit_txt\" href=\"http://gall.dcinside.com/board/view/?id=boys24&amp;no=135699\" target=\"_blank\">남자는 눈썹만 정리해도 달라보임</a>, <a class=\"tit_txt\" href=\"https://gall.dcinside.com/board/view/?id=maplestory&amp;no=10755406\" target=\"_blank\">내나이 26 순정이보고 깨달음을얻음.</a>, <a class=\"tit_txt\" href=\"http://gall.dcinside.com/board/view/?id=japan_entertainment&amp;no=3461123\" target=\"_blank\">저 이거삼</a>, <a class=\"tit_txt\" href=\"http://gall.dcinside.com/mgallery/board/view/?id=boys24&amp;no=135699\" target=\"_blank\">소년24 갤러리</a>, <a class=\"tit_txt\" href=\"http://gall.dcinside.com/board/view/?id=lovelyz&amp;no=983352\" target=\"_blank\">그나저나 내일 다들 이거 바르고 오는거지??</a>, <a class=\"tit_txt\" href=\"https://gall.dcinside.com/board/view/?id=baseball_new8&amp;no=3040182\" target=\"_blank\">슬슬 \"파운데이션\" 발라볼까나... ㄹㅇ...</a>, <a class=\"tit_txt\" href=\"https://gall.dcinside.com/board/view/?id=w_entertainer&amp;no=11364411\" target=\"_blank\">휘빵이 관리 잘하는 32살 같긔</a>, <a class=\"tit_txt\" href=\"https://gall.dcinside.com/board/view/?id=wendy&amp;no=209105\" target=\"_blank\">완죠씨들 관리하는 남성이네</a>, <a class=\"tit_txt\" href=\"http://gall.dcinside.com/board/view/?id=drama_new&amp;no=6618022\" target=\"_blank\">신씨가 패션과 미용에 관심이 많다고 하니..</a>, <a class=\"tit_txt\" href=\"http://gall.dcinside.com/board/view/?id=etc_program2&amp;no=37755\" target=\"_blank\">원래 잘꾸미고 가꾸는애들이 게이나 양성애자많음</a>, <a class=\"tit_txt\" href=\"http://gall.dcinside.com/board/view/?id=etc_program1&amp;no=4722983\" target=\"_blank\">나 남잔데 화장하고 다닌다. ㅍㅌㅊ?</a>, <a class=\"tit_txt\" href=\"http://gall.dcinside.com/board/view/?id=baseball_new5&amp;no=1736164\" target=\"_blank\">남잔데 메이크업베이스랑 파데 베이지 23호 쓰는데 ㅁㅌㅊ?</a>, <a class=\"tit_txt\" href=\"https://gall.dcinside.com/mgallery/board/view/?id=japans&amp;no=9845\" target=\"_blank\">일본 불매 인증한다.jpg</a>, <a class=\"tit_txt\" href=\"https://gall.dcinside.com/board/view/?id=stream&amp;no=849661\" target=\"_blank\">게이들이 대부분 몸좋고 피부좋음</a>, <a class=\"tit_txt\" href=\"http://gall.dcinside.com/mgallery/board/view/?id=girlgroup&amp;no=581287\" target=\"_blank\">초보 <b>글루밍족</b>은 다이소의 도움좀 받자ㄹㅇ - 여자 아이돌 마이너 갤러리</a>]\n",
            "['[단체짤드컵] 이거 아직 없음?', '김치남들의 문제는 본인이 개빻았다는 사실을 인정을 못함', '비비 바르는애들 당연히 색조화장도하지??', '올리브영에서 핸드크림이랑 발색립밤샀다', '유나 떄문아닌데 고개를 들었을뿐', '블락 면도기 일단 감성좆되네 썅거', '님들 남자 cc크림 어디꺼 씀?', '남자는 눈썹만 정리해도 달라보임', '내나이 26 순정이보고 깨달음을얻음.', '저 이거삼', '소년24 갤러리', '그나저나 내일 다들 이거 바르고 오는거지??', '슬슬 \"파운데이션\" 발라볼까나... ㄹㅇ...', '휘빵이 관리 잘하는 32살 같긔', '완죠씨들 관리하는 남성이네', '신씨가 패션과 미용에 관심이 많다고 하니..', '원래 잘꾸미고 가꾸는애들이 게이나 양성애자많음', '나 남잔데 화장하고 다닌다. ㅍㅌㅊ?', '남잔데 메이크업베이스랑 파데 베이지 23호 쓰는데 ㅁㅌㅊ?', '일본 불매 인증한다.jpg', '게이들이 대부분 몸좋고 피부좋음', '초보 글루밍족은 다이소의 도움좀 받자ㄹㅇ - 여자 아이돌 마이너 갤러리', '그루밍족과 쿼카 중복이면 말해줘', '솔선수범해서 그루밍족이 되라', '아 그루밍족인가 그거? ㅎㅎ', '나도 이제 그루밍족 - dc official App', '사실 그루밍족임 ㅋㅋ;;', '그루밍족 느낌 개좆되네', '저도 그루밍족 할거', '소넨들이여 그루밍족이 됩시다', '내일바로 이니스프리간다 ㅇㅇ 그루밍족될거임', '나도 그루밍족?ㅎㅎ', '소넨들이여 그루밍족이 됩시다', '그루밍족 멋져부러', 'ㄹㅇ 그루밍족이 되어보자~~', '그루밍족', '이시대의 그루밍족들', '그루밍족인가?', '그루밍족', '그루밍족이야', '그루밍족임', '그루밍족nida.', <a class=\"tit_txt\" href=\"https://gall.dcinside.com/mgallery/board/view/?id=rabidance4&amp;no=11978\" target=\"_blank\">[단체짤드컵] 이거 아직 없음?</a>, <a class=\"tit_txt\" href=\"http://gall.dcinside.com/board/view/?id=etc_program1&amp;no=4885159\" target=\"_blank\">김치남들의 문제는 본인이 개빻았다는 사실을 인정을 못함</a>, <a class=\"tit_txt\" href=\"http://gall.dcinside.com/board/view/?id=baseball_new5&amp;no=9761803\" target=\"_blank\">비비 바르는애들 당연히 색조화장도하지??</a>, <a class=\"tit_txt\" href=\"https://gall.dcinside.com/board/view/?id=depression&amp;no=7134279\" target=\"_blank\">올리브영에서 핸드크림이랑 발색립밤샀다</a>, <a class=\"tit_txt\" href=\"https://gall.dcinside.com/mgallery/board/view/?id=bravegirls0409&amp;no=231855\" target=\"_blank\">유나 떄문아닌데 고개를 들었을뿐</a>, <a class=\"tit_txt\" href=\"http://gall.dcinside.com/board/view/?id=football_new5&amp;no=7672853\" target=\"_blank\">블락 면도기 일단 감성좆되네 썅거</a>, <a class=\"tit_txt\" href=\"http://gall.dcinside.com/board/view/?id=tigers_new&amp;no=3556933\" target=\"_blank\">님들 남자 cc크림 어디꺼 씀?</a>, <a class=\"tit_txt\" href=\"http://gall.dcinside.com/board/view/?id=boys24&amp;no=135699\" target=\"_blank\">남자는 눈썹만 정리해도 달라보임</a>, <a class=\"tit_txt\" href=\"https://gall.dcinside.com/board/view/?id=maplestory&amp;no=10755406\" target=\"_blank\">내나이 26 순정이보고 깨달음을얻음.</a>, <a class=\"tit_txt\" href=\"http://gall.dcinside.com/board/view/?id=japan_entertainment&amp;no=3461123\" target=\"_blank\">저 이거삼</a>, <a class=\"tit_txt\" href=\"http://gall.dcinside.com/mgallery/board/view/?id=boys24&amp;no=135699\" target=\"_blank\">소년24 갤러리</a>, <a class=\"tit_txt\" href=\"http://gall.dcinside.com/board/view/?id=lovelyz&amp;no=983352\" target=\"_blank\">그나저나 내일 다들 이거 바르고 오는거지??</a>, <a class=\"tit_txt\" href=\"https://gall.dcinside.com/board/view/?id=baseball_new8&amp;no=3040182\" target=\"_blank\">슬슬 \"파운데이션\" 발라볼까나... ㄹㅇ...</a>, <a class=\"tit_txt\" href=\"https://gall.dcinside.com/board/view/?id=w_entertainer&amp;no=11364411\" target=\"_blank\">휘빵이 관리 잘하는 32살 같긔</a>, <a class=\"tit_txt\" href=\"https://gall.dcinside.com/board/view/?id=wendy&amp;no=209105\" target=\"_blank\">완죠씨들 관리하는 남성이네</a>, <a class=\"tit_txt\" href=\"http://gall.dcinside.com/board/view/?id=drama_new&amp;no=6618022\" target=\"_blank\">신씨가 패션과 미용에 관심이 많다고 하니..</a>, <a class=\"tit_txt\" href=\"http://gall.dcinside.com/board/view/?id=etc_program2&amp;no=37755\" target=\"_blank\">원래 잘꾸미고 가꾸는애들이 게이나 양성애자많음</a>, <a class=\"tit_txt\" href=\"http://gall.dcinside.com/board/view/?id=etc_program1&amp;no=4722983\" target=\"_blank\">나 남잔데 화장하고 다닌다. ㅍㅌㅊ?</a>, <a class=\"tit_txt\" href=\"http://gall.dcinside.com/board/view/?id=baseball_new5&amp;no=1736164\" target=\"_blank\">남잔데 메이크업베이스랑 파데 베이지 23호 쓰는데 ㅁㅌㅊ?</a>, <a class=\"tit_txt\" href=\"https://gall.dcinside.com/mgallery/board/view/?id=japans&amp;no=9845\" target=\"_blank\">일본 불매 인증한다.jpg</a>, <a class=\"tit_txt\" href=\"https://gall.dcinside.com/board/view/?id=stream&amp;no=849661\" target=\"_blank\">게이들이 대부분 몸좋고 피부좋음</a>, <a class=\"tit_txt\" href=\"http://gall.dcinside.com/mgallery/board/view/?id=girlgroup&amp;no=581287\" target=\"_blank\">초보 <b>글루밍족</b>은 다이소의 도움좀 받자ㄹㅇ - 여자 아이돌 마이너 갤러리</a>]\n"
          ]
        }
      ]
    },
    {
      "cell_type": "code",
      "source": [
        "!pip install xlrd\n",
        "import pandas as pd\n",
        "import glob\n",
        "\n",
        "\n",
        "try:\n",
        "    path = r'C:\\Users\\82106\\Desktop\\데저널'\n",
        "    files = glob.glob(path + \"*.xlsx\")\n",
        "    excel = pd.DataFrame()\n",
        "    for file_name in files:\n",
        "        df = pd.read_excel(file_name)\n",
        "        excel = excel.append(df, ignore_index=True)\n",
        "    print(excel)\n",
        "\n",
        "except Exception as ex:\n",
        "    print('error' + str(ex))"
      ],
      "metadata": {
        "colab": {
          "base_uri": "https://localhost:8080/"
        },
        "id": "BnyxDTAzz5Wo",
        "outputId": "cf8feebb-d913-4d1e-8518-3a1ec2b5cd0b"
      },
      "execution_count": null,
      "outputs": [
        {
          "output_type": "stream",
          "name": "stdout",
          "text": [
            "Looking in indexes: https://pypi.org/simple, https://us-python.pkg.dev/colab-wheels/public/simple/\n",
            "Requirement already satisfied: xlrd in /usr/local/lib/python3.8/dist-packages (1.2.0)\n",
            "       83년생 37살 85년생 35살 중대장 28~29살 - dc official App\n",
            "0                      보급형 이준기에서 아재로 ㅎㄷㄷ From DC Wave\n",
            "1            이게 한 4년전인가? 범죄도시 장첸+소지섭상에서 온미남+차은우상 됐다던데\n",
            "2                   현실 남친 없애고 가상의 우결만 해라 그게 돈버는 지름길이다\n",
            "3                         그건 여자자나.. 남자는 .. 흑흑 관리하기귀찮아\n",
            "4   단둘이만 있을때 좀만 긴장풀어도 발기하는데 다른남자들은 여사친들이랑 물놀이 같은거 ...\n",
            "5   거의 불가능.. 할 시간도 없을 뿐더러 보충제 먹어가며 운동하는걸 조폭될려고 저런다...\n",
            "6        ㅅㅌㅊ남자한테도 막나감 이미지관리고뭐고없음 근데 컨셉임 이런애들은 어떻게 맥임?\n",
            "7           도태된 버러지 한남들아 관리좀 하고살자잉~ - dc official App\n",
            "8                             첫짤 왼쪽하고 밑에 두 사람하고 동일인물임\n",
            "9   번듯한 직장에 탄탄한 근육질의 남자를 애둘러 표현하는 말 아닌가요? 내가 존경할 수...\n",
            "10  여잔 그냥 머리긴거 그대로 둬도 되고 펌좀 넣으면 끝인데 남자는 투블럭하면 주기적으...\n",
            "11  둘다 언젠간 갓겜이되거나 내가 저 여자의 남자가 되거나 라는 헛된 희망 갖으며 호구...\n",
            "12                  ㅇㅇ 다 지들도 외롭고 하니까 펄녀 붙어서 이어지는거지 ㅋㅋ\n",
            "13  해결하는 해결사가 더 인기있을듯 내가 외모관리한답시고 팀포폴 내팽겨치면 한녀새끼들 ...\n",
            "14                      ㅇㅇ 근데 난 안할거야 귀찬아서 ㅇ 못생긴 채로 살래\n",
            "15  여친 없는애들은 거의 이빨도 안닦나봄 내가겪은 실화임 이건 저번에 피시방갔는데 거기...\n",
            "16  1. 쌍수 + 코 만해도 상위 30%까지 진입 가능함. - 300만원 2. 하관이 ...\n",
            "17        거의 대부분 자기관리하고 성격 좋으면 연애성공률 100퍼에 임박하지않나....\n",
            "18  중년 넘어가면 노상관인데 좀 젊은 남자들이면 배 나왔을때 배 안나오게 보이려고 힘주...\n",
            "19                            정상적인 남자는 슈트하나로 자기관리는 충분\n",
            "20  타고난 외모는 어쩔 수 없다고 쳐도 머리숱 피부 체중 + 잘 씻는거 이거는 기본으로...\n",
            "21                                너처럼 예뻐져서 너같은 남자만날꺼야\n",
            "22                         스킨로션,수분크림,선크림 끝? 림밤도 사야되나요\n",
            "23  적당히 받아주면되는데 좆같다싶으면 그냥쌩까고 하니까 빡치고 안티가생기는거임 - dc...\n",
            "24                     보급형 이준기에서 아재로 ㅎㄷㄷ From DC Wave\n",
            "25           이게 한 4년전인가? 범죄도시 장첸+소지섭상에서 온미남+차은우상 됐다던데\n",
            "26                  현실 남친 없애고 가상의 우결만 해라 그게 돈버는 지름길이다\n",
            "27                        그건 여자자나.. 남자는 .. 흑흑 관리하기귀찮아\n",
            "28  단둘이만 있을때 좀만 긴장풀어도 발기하는데 다른남자들은 여사친들이랑 물놀이 같은거 ...\n",
            "29  거의 불가능.. 할 시간도 없을 뿐더러 보충제 먹어가며 운동하는걸 조폭될려고 저런다...\n",
            "30       ㅅㅌㅊ남자한테도 막나감 이미지관리고뭐고없음 근데 컨셉임 이런애들은 어떻게 맥임?\n",
            "31          도태된 버러지 한남들아 관리좀 하고살자잉~ - dc official App\n",
            "32                            첫짤 왼쪽하고 밑에 두 사람하고 동일인물임\n",
            "33  번듯한 직장에 탄탄한 근육질의 남자를 애둘러 표현하는 말 아닌가요? 내가 존경할 수...\n",
            "34  여잔 그냥 머리긴거 그대로 둬도 되고 펌좀 넣으면 끝인데 남자는 투블럭하면 주기적으...\n",
            "35  둘다 언젠간 갓겜이되거나 내가 저 여자의 남자가 되거나 라는 헛된 희망 갖으며 호구...\n",
            "36                  ㅇㅇ 다 지들도 외롭고 하니까 펄녀 붙어서 이어지는거지 ㅋㅋ\n",
            "37  해결하는 해결사가 더 인기있을듯 내가 외모관리한답시고 팀포폴 내팽겨치면 한녀새끼들 ...\n",
            "38                      ㅇㅇ 근데 난 안할거야 귀찬아서 ㅇ 못생긴 채로 살래\n",
            "39  여친 없는애들은 거의 이빨도 안닦나봄 내가겪은 실화임 이건 저번에 피시방갔는데 거기...\n",
            "40  1. 쌍수 + 코 만해도 상위 30%까지 진입 가능함. - 300만원 2. 하관이 ...\n",
            "41        거의 대부분 자기관리하고 성격 좋으면 연애성공률 100퍼에 임박하지않나....\n",
            "42  중년 넘어가면 노상관인데 좀 젊은 남자들이면 배 나왔을때 배 안나오게 보이려고 힘주...\n",
            "43                            정상적인 남자는 슈트하나로 자기관리는 충분\n",
            "44  타고난 외모는 어쩔 수 없다고 쳐도 머리숱 피부 체중 + 잘 씻는거 이거는 기본으로...\n",
            "45                                너처럼 예뻐져서 너같은 남자만날꺼야\n",
            "46                         스킨로션,수분크림,선크림 끝? 림밤도 사야되나요\n",
            "47  적당히 받아주면되는데 좆같다싶으면 그냥쌩까고 하니까 빡치고 안티가생기는거임 - dc...\n"
          ]
        }
      ]
    },
    {
      "cell_type": "code",
      "source": [
        "#통합검색/정확도순\n",
        "\n",
        "import pandas as pd\n",
        "import time\n",
        "import requests, re\n",
        "from bs4 import BeautifulSoup\n",
        "from IPython.core.display import display, HTML\n",
        " \n",
        "#봇 차단을 위한 헤더 설정\n",
        "headers = {\n",
        "    \"Connection\" : \"keep-alive\",\n",
        "    \"Cache-Control\" : \"max-age=0\",\n",
        "    \"sec-ch-ua-mobile\" : \"?0\",\n",
        "    \"DNT\" : \"1\",\n",
        "    \"Upgrade-Insecure-Requests\" : \"1\",\n",
        "    \"User-Agent\" : \"Mozilla/5.0 (Windows NT 10.0; Win64; x64) AppleWebKit/537.36 (KHTML, like Gecko) Chrome/90.0.4430.93 Safari/537.36\",\n",
        "    \"Accept\" : \"text/html,application/xhtml+xml,application/xml;q=0.9,image/avif,image/webp,image/apng,*/*;q=0.8,application/signed-exchange;v=b3;q=0.9\",\n",
        "    \"Sec-Fetch-Site\" : \"none\",\n",
        "    \"Sec-Fetch-Mode\" : \"navigate\",\n",
        "    \"Sec-Fetch-User\" : \"?1\",\n",
        "    \"Sec-Fetch-Dest\" : \"document\",\n",
        "    \"Accept-Encoding\" : \"gzip, deflate, br\",\n",
        "    \"Accept-Language\" : \"ko-KR,ko;q=0.9\"\n",
        "    }\n",
        "\n",
        "#글 파싱 함수\n",
        "for i in range (1,10):\n",
        "  k=10\n",
        "  url = f\"https://search.dcinside.com/post/p/i/sort/accuracy/q/그루밍족\"\n",
        "  res = requests.get(url, headers=headers)\n",
        "  soup = BeautifulSoup(res.text, \"lxml\")\n",
        "  article_list=soup.find_all(\"p\",class_=\"link_dsc_txt\")\n",
        "\n",
        "  # #1: 갤러리, 작성시기까지\n",
        "  #     for i in range(50):\n",
        "  #       print(article_list[i].text.strip())\n",
        "\n",
        "  #2\n",
        "  dclist=[]\n",
        "  newlist=[]\n",
        "  for i in range (50):\n",
        "        dclist.append(article_list[i].text)\n",
        "  for i in range (25):\n",
        "        newlist.append(dclist[2*i])\n",
        "      # df=pd.DataFrame(newlist)\n",
        "      # df.to_excel('1.xlsx', index=False)\n",
        "\n",
        "  for i in range(1,k):\n",
        "        df=pd.DataFrame(newlist)\n",
        "        df.to_excel('k.xlsx', index=False)\n",
        "\n",
        "\n",
        "\n",
        "\n"
      ],
      "metadata": {
        "id": "vD5JlfLmuCDm"
      },
      "execution_count": null,
      "outputs": []
    },
    {
      "cell_type": "code",
      "source": [
        "\n",
        "#통합검색 내부진입\n",
        "import time\n",
        "import requests, re\n",
        "from bs4 import BeautifulSoup\n",
        "from IPython.core.display import display, HTML\n",
        " \n",
        "#봇 차단을 위한 헤더 설정\n",
        "headers = {\n",
        "    \"Connection\" : \"keep-alive\",\n",
        "    \"Cache-Control\" : \"max-age=0\",\n",
        "    \"sec-ch-ua-mobile\" : \"?0\",\n",
        "    \"DNT\" : \"1\",\n",
        "    \"Upgrade-Insecure-Requests\" : \"1\",\n",
        "    \"User-Agent\" : \"Mozilla/5.0 (Windows NT 10.0; Win64; x64) AppleWebKit/537.36 (KHTML, like Gecko) Chrome/90.0.4430.93 Safari/537.36\",\n",
        "    \"Accept\" : \"text/html,application/xhtml+xml,application/xml;q=0.9,image/avif,image/webp,image/apng,*/*;q=0.8,application/signed-exchange;v=b3;q=0.9\",\n",
        "    \"Sec-Fetch-Site\" : \"none\",\n",
        "    \"Sec-Fetch-Mode\" : \"navigate\",\n",
        "    \"Sec-Fetch-User\" : \"?1\",\n",
        "    \"Sec-Fetch-Dest\" : \"document\",\n",
        "    \"Accept-Encoding\" : \"gzip, deflate, br\",\n",
        "    \"Accept-Language\" : \"ko-KR,ko;q=0.9\"\n",
        "    }\n",
        " \n",
        "#글 파싱 함수\n",
        "\n",
        "def article_parse(pageNum, keyword):\n",
        "    url = f\"https://search.dcinside.com/post/p/{pageNum}/sort/accuracy/q/{keyword}\"\n",
        "    res = requests.get(url, headers=headers)\n",
        "    soup = BeautifulSoup(res.text, \"lxml\")\n",
        "\n",
        "    url_list=[]\n",
        "    article_list=soup.find_all(\"ul\", class_=\"sch_result_list\")\n",
        "\n",
        "    for element in article_list:    \n",
        "        for i in range(10):  #n=한페이지당 게시글수\n",
        "          link = element.select(\"a\")[2*i]['href'].strip() #한 element당 2개의 <a>, 둘 중 하나는 필요 없는 해당 게시글 소속 갤러리 기본 주소\n",
        "          url_list.append(link)\n",
        "          #print(url_list)           #』링크 저장\n",
        "    \n",
        "    for base_url in url_list:\n",
        "      with urllib.request.urlopen(base_url) as url:\n",
        "        doc = url.read()\n",
        "        soup = BeautifulSoup(doc, \"html.parser\")\n",
        "        #print(base_url)\n",
        "\n",
        "        title=soup.find_all(\"span\", class_=\"title_subject\")[0].text  #빈 list로 나옴. 동적 웹사이트라 그런 듯. selenium으로 접근 요망\n",
        "        print(title)\n",
        "\n",
        "\n",
        "keyword = \"페이커\"  #검색어\n",
        "n=10   #페이지수 \n",
        "\n",
        "\n",
        "for i in range (1,n):\n",
        "  article_parse(i, keyword)\n",
        "\n",
        "\n",
        "\n",
        "\n"
      ],
      "metadata": {
        "colab": {
          "base_uri": "https://localhost:8080/",
          "height": 376
        },
        "id": "ldekSDFjJhQo",
        "outputId": "c0a6c8ad-7f09-4c85-bb30-1d969c994f68"
      },
      "execution_count": null,
      "outputs": [
        {
          "output_type": "error",
          "ename": "NameError",
          "evalue": "ignored",
          "traceback": [
            "\u001b[0;31m---------------------------------------------------------------------------\u001b[0m",
            "\u001b[0;31mNameError\u001b[0m                                 Traceback (most recent call last)",
            "\u001b[0;32m<ipython-input-12-09e08f9beab2>\u001b[0m in \u001b[0;36m<module>\u001b[0;34m\u001b[0m\n\u001b[1;32m     53\u001b[0m \u001b[0;34m\u001b[0m\u001b[0m\n\u001b[1;32m     54\u001b[0m \u001b[0;32mfor\u001b[0m \u001b[0mi\u001b[0m \u001b[0;32min\u001b[0m \u001b[0mrange\u001b[0m \u001b[0;34m(\u001b[0m\u001b[0;36m1\u001b[0m\u001b[0;34m,\u001b[0m\u001b[0mn\u001b[0m\u001b[0;34m)\u001b[0m\u001b[0;34m:\u001b[0m\u001b[0;34m\u001b[0m\u001b[0;34m\u001b[0m\u001b[0m\n\u001b[0;32m---> 55\u001b[0;31m   \u001b[0marticle_parse\u001b[0m\u001b[0;34m(\u001b[0m\u001b[0mi\u001b[0m\u001b[0;34m,\u001b[0m \u001b[0mkeyword\u001b[0m\u001b[0;34m)\u001b[0m\u001b[0;34m\u001b[0m\u001b[0;34m\u001b[0m\u001b[0m\n\u001b[0m\u001b[1;32m     56\u001b[0m \u001b[0;34m\u001b[0m\u001b[0m\n\u001b[1;32m     57\u001b[0m \u001b[0;34m\u001b[0m\u001b[0m\n",
            "\u001b[0;32m<ipython-input-12-09e08f9beab2>\u001b[0m in \u001b[0;36marticle_parse\u001b[0;34m(pageNum, keyword)\u001b[0m\n\u001b[1;32m     39\u001b[0m \u001b[0;34m\u001b[0m\u001b[0m\n\u001b[1;32m     40\u001b[0m     \u001b[0;32mfor\u001b[0m \u001b[0mbase_url\u001b[0m \u001b[0;32min\u001b[0m \u001b[0murl_list\u001b[0m\u001b[0;34m:\u001b[0m\u001b[0;34m\u001b[0m\u001b[0;34m\u001b[0m\u001b[0m\n\u001b[0;32m---> 41\u001b[0;31m       \u001b[0;32mwith\u001b[0m \u001b[0murllib\u001b[0m\u001b[0;34m.\u001b[0m\u001b[0mrequest\u001b[0m\u001b[0;34m.\u001b[0m\u001b[0murlopen\u001b[0m\u001b[0;34m(\u001b[0m\u001b[0mbase_url\u001b[0m\u001b[0;34m)\u001b[0m \u001b[0;32mas\u001b[0m \u001b[0murl\u001b[0m\u001b[0;34m:\u001b[0m\u001b[0;34m\u001b[0m\u001b[0;34m\u001b[0m\u001b[0m\n\u001b[0m\u001b[1;32m     42\u001b[0m         \u001b[0mdoc\u001b[0m \u001b[0;34m=\u001b[0m \u001b[0murl\u001b[0m\u001b[0;34m.\u001b[0m\u001b[0mread\u001b[0m\u001b[0;34m(\u001b[0m\u001b[0;34m)\u001b[0m\u001b[0;34m\u001b[0m\u001b[0;34m\u001b[0m\u001b[0m\n\u001b[1;32m     43\u001b[0m         \u001b[0msoup\u001b[0m \u001b[0;34m=\u001b[0m \u001b[0mBeautifulSoup\u001b[0m\u001b[0;34m(\u001b[0m\u001b[0mdoc\u001b[0m\u001b[0;34m,\u001b[0m \u001b[0;34m\"html.parser\"\u001b[0m\u001b[0;34m)\u001b[0m\u001b[0;34m\u001b[0m\u001b[0;34m\u001b[0m\u001b[0m\n",
            "\u001b[0;31mNameError\u001b[0m: name 'urllib' is not defined"
          ]
        }
      ]
    },
    {
      "cell_type": "code",
      "source": [
        "#특정 갤러리 내 여러 페이지\n",
        "\n",
        "import time\n",
        "import requests, re\n",
        "from bs4 import BeautifulSoup\n",
        "from IPython.core.display import display, HTML\n",
        " \n",
        "#봇 차단을 위한 헤더 설정\n",
        "headers = {\n",
        "    \"Connection\" : \"keep-alive\",\n",
        "    \"Cache-Control\" : \"max-age=0\",\n",
        "    \"sec-ch-ua-mobile\" : \"?0\",\n",
        "    \"DNT\" : \"1\",\n",
        "    \"Upgrade-Insecure-Requests\" : \"1\",\n",
        "    \"User-Agent\" : \"Mozilla/5.0 (Windows NT 10.0; Win64; x64) AppleWebKit/537.36 (KHTML, like Gecko) Chrome/90.0.4430.93 Safari/537.36\",\n",
        "    \"Accept\" : \"text/html,application/xhtml+xml,application/xml;q=0.9,image/avif,image/webp,image/apng,*/*;q=0.8,application/signed-exchange;v=b3;q=0.9\",\n",
        "    \"Sec-Fetch-Site\" : \"none\",\n",
        "    \"Sec-Fetch-Mode\" : \"navigate\",\n",
        "    \"Sec-Fetch-User\" : \"?1\",\n",
        "    \"Sec-Fetch-Dest\" : \"document\",\n",
        "    \"Accept-Encoding\" : \"gzip, deflate, br\",\n",
        "    \"Accept-Language\" : \"ko-KR,ko;q=0.9\"\n",
        "    }\n",
        " \n",
        "#갤러리 타입 가져오기(마이너, 일반)\n",
        "def get_gallary_type(dc_id):\n",
        "    #url로 requests를 보내서 redirect시키는지 체크한다.\n",
        "    url = f'https://gall.dcinside.com/board/lists/?id={dc_id}'\n",
        "    result = url\n",
        "    \n",
        "    res = requests.get(url, headers=headers)\n",
        "    soup = BeautifulSoup(res.text, \"lxml\")\n",
        "    if \"location.replace\" in str(soup):\n",
        "        redirect_url = str(soup).split('\"')[3]\n",
        "        result = redirect_url\n",
        "    if \"mgallery\" in result:\n",
        "        result = \"mgallery/board\"\n",
        "    else:\n",
        "        result = \"board\"\n",
        "        \n",
        "    return result\n",
        " \n",
        "#글 파싱 함수\n",
        "def article_parse(dc_id, keyword):\n",
        "    g_type = get_gallary_type(dc_id)\n",
        "    url = f\"https://gall.dcinside.com/{g_type}/lists/?id={dc_id}&page=1&s_type=search_subject_memo&s_keyword={keyword}\"\n",
        "    res = requests.get(url, headers=headers)\n",
        "    soup = BeautifulSoup(res.text, \"lxml\")\n",
        " \n",
        "    article_list = soup.select(\".us-post\") #글 박스 전부 select\n",
        "    #print(article_list)\n",
        "    for element in article_list:\n",
        "        #글 박스를 하나씩 반복하면서 정보 추출\n",
        "        link = \"https://gall.dcinside.com/\" + element.select(\"a\")[0]['href'].strip()\n",
        "        print(link)\n",
        "        num = element.select(\".gall_num\")[0].text\n",
        "        title = element.select(\".ub-word > a\")[0].text\n",
        "        reply = element.select(\".ub-word > a.reply_numbox > .reply_num\")\n",
        "        if reply : reply = reply[0].text\n",
        "        else : reply = \"\"\n",
        "        nickname = element.select(\".ub-writer\")[0].text.strip()\n",
        "        timestamp = element.select(\".gall_date\")[0].text\n",
        "        refresh = element.select(\".gall_count\")[0].text\n",
        "        recommend = element.select(\".gall_recommend\")[0].text\n",
        " \n",
        "        #print(link, num, title, reply, nickname, timestamp, refresh, recommend)\n",
        "        display(HTML(f'{num} <a href = \"{link}\" target=\"_blank\">{title}</a> {reply} {nickname} {timestamp} {refresh} {recommend}'))\n",
        "    \n",
        " \n",
        "#검색할때 설정해줘야할 것들\n",
        "dc_id = \"leagueoflegends4\"\n",
        "keyword = \"게임\"\n",
        " \n",
        "article_parse(dc_id, keyword)"
      ],
      "metadata": {
        "colab": {
          "base_uri": "https://localhost:8080/",
          "height": 737
        },
        "id": "KDWrpg0jGMRA",
        "outputId": "02c7f5d2-2329-4d5a-f366-1e3a262b0768"
      },
      "execution_count": null,
      "outputs": [
        {
          "output_type": "stream",
          "name": "stdout",
          "text": [
            "https://gall.dcinside.com//board/view/?id=leagueoflegends4&no=14496154&s_type=search_subject_memo&s_keyword=게임&page=1\n"
          ]
        },
        {
          "output_type": "display_data",
          "data": {
            "text/plain": [
              "<IPython.core.display.HTML object>"
            ],
            "text/html": [
              "14496154 <a href = \"https://gall.dcinside.com//board/view/?id=leagueoflegends4&no=14496154&s_type=search_subject_memo&s_keyword=게임&page=1\" target=\"_blank\">제카 욕하지마.표식이가 믿음을 못줘서 팀폭파된거임</a> [2] ㅇㅇ(112.185) 22:47 99 5"
            ]
          },
          "metadata": {}
        },
        {
          "output_type": "stream",
          "name": "stdout",
          "text": [
            "https://gall.dcinside.com//board/view/?id=leagueoflegends4&no=14496130&s_type=search_subject_memo&s_keyword=게임&page=1\n"
          ]
        },
        {
          "output_type": "display_data",
          "data": {
            "text/plain": [
              "<IPython.core.display.HTML object>"
            ],
            "text/html": [
              "14496130 <a href = \"https://gall.dcinside.com//board/view/?id=leagueoflegends4&no=14496130&s_type=search_subject_memo&s_keyword=게임&page=1\" target=\"_blank\">분명 게임은 아트가 다 엎었는데 딜러 드립을 치네 ㅋㅋ</a> [1] ㅇㅇ(119.198) 22:46 70 1"
            ]
          },
          "metadata": {}
        },
        {
          "output_type": "stream",
          "name": "stdout",
          "text": [
            "https://gall.dcinside.com//board/view/?id=leagueoflegends4&no=14496106&s_type=search_subject_memo&s_keyword=게임&page=1\n"
          ]
        },
        {
          "output_type": "display_data",
          "data": {
            "text/plain": [
              "<IPython.core.display.HTML object>"
            ],
            "text/html": [
              "14496106 <a href = \"https://gall.dcinside.com//board/view/?id=leagueoflegends4&no=14496106&s_type=search_subject_memo&s_keyword=게임&page=1\" target=\"_blank\">딜러게임이다 ㅇㅈㄹ ㅋㅋㅋㅋㅋㅋㅋㅋㅋㅋㅋㅋ</a>  ㅇㅇ(121.172) 22:45 37 0"
            ]
          },
          "metadata": {}
        },
        {
          "output_type": "stream",
          "name": "stdout",
          "text": [
            "https://gall.dcinside.com//board/view/?id=leagueoflegends4&no=14496102&s_type=search_subject_memo&s_keyword=게임&page=1\n"
          ]
        },
        {
          "output_type": "display_data",
          "data": {
            "text/plain": [
              "<IPython.core.display.HTML object>"
            ],
            "text/html": [
              "14496102 <a href = \"https://gall.dcinside.com//board/view/?id=leagueoflegends4&no=14496102&s_type=search_subject_memo&s_keyword=게임&page=1\" target=\"_blank\">쉐도우피셜 정글러는 백정이다 미드게임이다 미드게임!!!</a>  ㅇㅇ(117.111) 22:45 23 1"
            ]
          },
          "metadata": {}
        },
        {
          "output_type": "stream",
          "name": "stdout",
          "text": [
            "https://gall.dcinside.com//board/view/?id=leagueoflegends4&no=14496101&s_type=search_subject_memo&s_keyword=게임&page=1\n"
          ]
        },
        {
          "output_type": "display_data",
          "data": {
            "text/plain": [
              "<IPython.core.display.HTML object>"
            ],
            "text/html": [
              "14496101 <a href = \"https://gall.dcinside.com//board/view/?id=leagueoflegends4&no=14496101&s_type=search_subject_memo&s_keyword=게임&page=1\" target=\"_blank\">정글이요? 딜러게임입니다</a>  ㅇㅇ(106.101) 22:45 19 0"
            ]
          },
          "metadata": {}
        },
        {
          "output_type": "stream",
          "name": "stdout",
          "text": [
            "https://gall.dcinside.com//board/view/?id=leagueoflegends4&no=14496090&s_type=search_subject_memo&s_keyword=게임&page=1\n"
          ]
        },
        {
          "output_type": "display_data",
          "data": {
            "text/plain": [
              "<IPython.core.display.HTML object>"
            ],
            "text/html": [
              "14496090 <a href = \"https://gall.dcinside.com//board/view/?id=leagueoflegends4&no=14496090&s_type=search_subject_memo&s_keyword=게임&page=1\" target=\"_blank\">대재석) 딜러게임이다 ㅋㅋㅋㅋㅋㅋㅋ</a> [4] ㅇㅇ(59.1) 22:45 85 0"
            ]
          },
          "metadata": {}
        },
        {
          "output_type": "stream",
          "name": "stdout",
          "text": [
            "https://gall.dcinside.com//board/view/?id=leagueoflegends4&no=14495944&s_type=search_subject_memo&s_keyword=게임&page=1\n"
          ]
        },
        {
          "output_type": "display_data",
          "data": {
            "text/plain": [
              "<IPython.core.display.HTML object>"
            ],
            "text/html": [
              "14495944 <a href = \"https://gall.dcinside.com//board/view/?id=leagueoflegends4&no=14495944&s_type=search_subject_memo&s_keyword=게임&page=1\" target=\"_blank\">아니 애들아 롤판에 솔직히 진지한 구석이 있냐? 슼갈들 말곤</a>  ㅇㅇ(110.12) 22:41 26 0"
            ]
          },
          "metadata": {}
        },
        {
          "output_type": "stream",
          "name": "stdout",
          "text": [
            "https://gall.dcinside.com//board/view/?id=leagueoflegends4&no=14495848&s_type=search_subject_memo&s_keyword=게임&page=1\n"
          ]
        },
        {
          "output_type": "display_data",
          "data": {
            "text/plain": [
              "<IPython.core.display.HTML object>"
            ],
            "text/html": [
              "14495848 <a href = \"https://gall.dcinside.com//board/view/?id=leagueoflegends4&no=14495848&s_type=search_subject_memo&s_keyword=게임&page=1\" target=\"_blank\">내년 스토브는 진짜 화산폭발급 나올거같네 ㅋㅋㅋㅋㅋㅋㅋ</a>  ㅇㅇ(175.192) 22:38 63 0"
            ]
          },
          "metadata": {}
        },
        {
          "output_type": "stream",
          "name": "stdout",
          "text": [
            "https://gall.dcinside.com//board/view/?id=leagueoflegends4&no=14495563&s_type=search_subject_memo&s_keyword=게임&page=1\n"
          ]
        },
        {
          "output_type": "display_data",
          "data": {
            "text/plain": [
              "<IPython.core.display.HTML object>"
            ],
            "text/html": [
              "14495563 <a href = \"https://gall.dcinside.com//board/view/?id=leagueoflegends4&no=14495563&s_type=search_subject_memo&s_keyword=게임&page=1\" target=\"_blank\">전적한번 봐주셈 골딱이</a> [2] ㅇㅇ(183.102) 22:31 20 0"
            ]
          },
          "metadata": {}
        },
        {
          "output_type": "stream",
          "name": "stdout",
          "text": [
            "https://gall.dcinside.com//board/view/?id=leagueoflegends4&no=14495389&s_type=search_subject_memo&s_keyword=게임&page=1\n"
          ]
        },
        {
          "output_type": "display_data",
          "data": {
            "text/plain": [
              "<IPython.core.display.HTML object>"
            ],
            "text/html": [
              "14495389 <a href = \"https://gall.dcinside.com//board/view/?id=leagueoflegends4&no=14495389&s_type=search_subject_memo&s_keyword=게임&page=1\" target=\"_blank\">롤 개거품 게임에 개거품에이전트 입갤 ㅋㅋㅋㅋㅋ</a>  얼굴만사랑해(221.156) 22:28 47 0"
            ]
          },
          "metadata": {}
        },
        {
          "output_type": "stream",
          "name": "stdout",
          "text": [
            "https://gall.dcinside.com//board/view/?id=leagueoflegends4&no=14495387&s_type=search_subject_memo&s_keyword=게임&page=1\n"
          ]
        },
        {
          "output_type": "display_data",
          "data": {
            "text/plain": [
              "<IPython.core.display.HTML object>"
            ],
            "text/html": [
              "14495387 <a href = \"https://gall.dcinside.com//board/view/?id=leagueoflegends4&no=14495387&s_type=search_subject_memo&s_keyword=게임&page=1\" target=\"_blank\">그 게임단이랑 풀고 라스칼 보냈다 ㅋㅋㅋㅋㅋ</a>  ㅇㅇ(121.150) 22:28 44 0"
            ]
          },
          "metadata": {}
        },
        {
          "output_type": "stream",
          "name": "stdout",
          "text": [
            "https://gall.dcinside.com//board/view/?id=leagueoflegends4&no=14495324&s_type=search_subject_memo&s_keyword=게임&page=1\n"
          ]
        },
        {
          "output_type": "display_data",
          "data": {
            "text/plain": [
              "<IPython.core.display.HTML object>"
            ],
            "text/html": [
              "14495324 <a href = \"https://gall.dcinside.com//board/view/?id=leagueoflegends4&no=14495324&s_type=search_subject_memo&s_keyword=게임&page=1\" target=\"_blank\">또또 아이돌판 롤대남 특성 나온다ㅋㅋㅋ 제카가 뭔 큰 잘못했냐?</a>  ㅇㅇ(175.193) 22:26 28 1"
            ]
          },
          "metadata": {}
        },
        {
          "output_type": "stream",
          "name": "stdout",
          "text": [
            "https://gall.dcinside.com//board/view/?id=leagueoflegends4&no=14495075&s_type=search_subject_memo&s_keyword=게임&page=1\n"
          ]
        },
        {
          "output_type": "display_data",
          "data": {
            "text/plain": [
              "<IPython.core.display.HTML object>"
            ],
            "text/html": [
              "14495075 <a href = \"https://gall.dcinside.com//board/view/?id=leagueoflegends4&no=14495075&s_type=search_subject_memo&s_keyword=게임&page=1\" target=\"_blank\">오피지지 전적에 이 표시 왜 뜨는 거임??</a> [3] ㅇㅇ(180.230) 22:19 42 0"
            ]
          },
          "metadata": {}
        },
        {
          "output_type": "stream",
          "name": "stdout",
          "text": [
            "https://gall.dcinside.com//board/view/?id=leagueoflegends4&no=14495018&s_type=search_subject_memo&s_keyword=게임&page=1\n"
          ]
        },
        {
          "output_type": "display_data",
          "data": {
            "text/plain": [
              "<IPython.core.display.HTML object>"
            ],
            "text/html": [
              "14495018 <a href = \"https://gall.dcinside.com//board/view/?id=leagueoflegends4&no=14495018&s_type=search_subject_memo&s_keyword=게임&page=1\" target=\"_blank\">게임을 시작 하겠습니다 ~~~~~~~~~~~~~~~~~~~~~~~</a>  ㅇㅇ(49.171) 22:18 7 0"
            ]
          },
          "metadata": {}
        },
        {
          "output_type": "stream",
          "name": "stdout",
          "text": [
            "https://gall.dcinside.com//board/view/?id=leagueoflegends4&no=14494992&s_type=search_subject_memo&s_keyword=게임&page=1\n"
          ]
        },
        {
          "output_type": "display_data",
          "data": {
            "text/plain": [
              "<IPython.core.display.HTML object>"
            ],
            "text/html": [
              "14494992 <a href = \"https://gall.dcinside.com//board/view/?id=leagueoflegends4&no=14494992&s_type=search_subject_memo&s_keyword=게임&page=1\" target=\"_blank\">오수 다시 시작해야지</a> [1] ㅇㅇ 22:16 29 0"
            ]
          },
          "metadata": {}
        },
        {
          "output_type": "stream",
          "name": "stdout",
          "text": [
            "https://gall.dcinside.com//board/view/?id=leagueoflegends4&no=14494931&s_type=search_subject_memo&s_keyword=게임&page=1\n"
          ]
        },
        {
          "output_type": "display_data",
          "data": {
            "text/plain": [
              "<IPython.core.display.HTML object>"
            ],
            "text/html": [
              "14494931 <a href = \"https://gall.dcinside.com//board/view/?id=leagueoflegends4&no=14494931&s_type=search_subject_memo&s_keyword=게임&page=1\" target=\"_blank\">drx 이번에도 가능성 있는 이유</a>  ㅇㅇ(27.1) 22:13 47 0"
            ]
          },
          "metadata": {}
        },
        {
          "output_type": "stream",
          "name": "stdout",
          "text": [
            "https://gall.dcinside.com//board/view/?id=leagueoflegends4&no=14494888&s_type=search_subject_memo&s_keyword=게임&page=1\n"
          ]
        },
        {
          "output_type": "display_data",
          "data": {
            "text/plain": [
              "<IPython.core.display.HTML object>"
            ],
            "text/html": [
              "14494888 <a href = \"https://gall.dcinside.com//board/view/?id=leagueoflegends4&no=14494888&s_type=search_subject_memo&s_keyword=게임&page=1\" target=\"_blank\">DRX가 사실이면 제카 ㄹㅇ ㅈ돼겠노</a> [2] ㅇㅇ(223.39) 22:10 238 5"
            ]
          },
          "metadata": {}
        },
        {
          "output_type": "stream",
          "name": "stdout",
          "text": [
            "https://gall.dcinside.com//board/view/?id=leagueoflegends4&no=14494687&s_type=search_subject_memo&s_keyword=게임&page=1\n"
          ]
        },
        {
          "output_type": "display_data",
          "data": {
            "text/plain": [
              "<IPython.core.display.HTML object>"
            ],
            "text/html": [
              "14494687 <a href = \"https://gall.dcinside.com//board/view/?id=leagueoflegends4&no=14494687&s_type=search_subject_memo&s_keyword=게임&page=1\" target=\"_blank\">선수 영입할때 가장 먼저 보는게 꾸준하며 저점이 높은가임</a>  ㅇㅇ(211.36) 21:58 27 2"
            ]
          },
          "metadata": {}
        },
        {
          "output_type": "stream",
          "name": "stdout",
          "text": [
            "https://gall.dcinside.com//board/view/?id=leagueoflegends4&no=14494670&s_type=search_subject_memo&s_keyword=게임&page=1\n"
          ]
        },
        {
          "output_type": "display_data",
          "data": {
            "text/plain": [
              "<IPython.core.display.HTML object>"
            ],
            "text/html": [
              "14494670 <a href = \"https://gall.dcinside.com//board/view/?id=leagueoflegends4&no=14494670&s_type=search_subject_memo&s_keyword=게임&page=1\" target=\"_blank\">롤 게임창 나만 안 들어가지나?</a> [1] ㅇㅇ(59.12) 21:57 21 0"
            ]
          },
          "metadata": {}
        },
        {
          "output_type": "stream",
          "name": "stdout",
          "text": [
            "https://gall.dcinside.com//board/view/?id=leagueoflegends4&no=14494602&s_type=search_subject_memo&s_keyword=게임&page=1\n"
          ]
        },
        {
          "output_type": "display_data",
          "data": {
            "text/plain": [
              "<IPython.core.display.HTML object>"
            ],
            "text/html": [
              "14494602 <a href = \"https://gall.dcinside.com//board/view/?id=leagueoflegends4&no=14494602&s_type=search_subject_memo&s_keyword=게임&page=1\" target=\"_blank\">베릴은 맘편하게 게임하는거 같아도 속은 복잡할걸?</a> [1] ㅇㅇ(175.210) 21:53 64 1"
            ]
          },
          "metadata": {}
        }
      ]
    },
    {
      "cell_type": "code",
      "source": [
        "#특정 갤러리 내 링크 진입, 본문 추출\n",
        "\n",
        "import time\n",
        "import requests, re\n",
        "from bs4 import BeautifulSoup\n",
        "from IPython.core.display import display, HTML\n",
        "import urllib.request\n",
        "from datetime import datetime as dt\n",
        "\n",
        " \n",
        "#봇 차단을 위한 헤더 설정\n",
        "headers = {\n",
        "    \"Connection\" : \"keep-alive\",\n",
        "    \"Cache-Control\" : \"max-age=0\",\n",
        "    \"sec-ch-ua-mobile\" : \"?0\",\n",
        "    \"DNT\" : \"1\",\n",
        "    \"Upgrade-Insecure-Requests\" : \"1\",\n",
        "    \"User-Agent\" : \"Mozilla/5.0 (Windows NT 10.0; Win64; x64) AppleWebKit/537.36 (KHTML, like Gecko) Chrome/90.0.4430.93 Safari/537.36\",\n",
        "    \"Accept\" : \"text/html,application/xhtml+xml,application/xml;q=0.9,image/avif,image/webp,image/apng,*/*;q=0.8,application/signed-exchange;v=b3;q=0.9\",\n",
        "    \"Sec-Fetch-Site\" : \"none\",\n",
        "    \"Sec-Fetch-Mode\" : \"navigate\",\n",
        "    \"Sec-Fetch-User\" : \"?1\",\n",
        "    \"Sec-Fetch-Dest\" : \"document\",\n",
        "    \"Accept-Encoding\" : \"gzip, deflate, br\",\n",
        "    \"Accept-Language\" : \"ko-KR,ko;q=0.9\"\n",
        "    }\n",
        " \n",
        "#갤러리 타입 가져오기(마이너, 일반)\n",
        "def get_gallary_type(dc_id):\n",
        "    #url로 requests를 보내서 redirect시키는지 체크한다.\n",
        "    url = f'https://gall.dcinside.com/board/lists/?id={dc_id}'\n",
        "    result = url\n",
        "    \n",
        "    res = requests.get(url, headers=headers)\n",
        "    soup = BeautifulSoup(res.text, \"lxml\")\n",
        "    if \"location.replace\" in str(soup):\n",
        "        redirect_url = str(soup).split('\"')[3]\n",
        "        result = redirect_url\n",
        "    if \"mgallery\" in result:\n",
        "        result = \"mgallery/board\"\n",
        "    else:\n",
        "        result = \"board\"\n",
        "        \n",
        "    return result\n",
        " \n",
        "#글 파싱 함수\n",
        "def article_parse(dc_id, keyword):\n",
        "    g_type = get_gallary_type(dc_id)\n",
        "    url = f\"https://gall.dcinside.com/{g_type}/lists/?id={dc_id}&page=1&s_type=search_subject_memo&s_keyword={keyword}\"\n",
        "    res = requests.get(url, headers=headers)\n",
        "    soup = BeautifulSoup(res.text, \"lxml\")\n",
        " \n",
        "    article_list = soup.select(\".us-post\") #글 박스 전부 select\n",
        "    #print(article_list)\n",
        "\n",
        "    url_list=[]\n",
        "    \n",
        "    for element in article_list:\n",
        "        #글 박스를 하나씩 반복하면서 정보 추출\n",
        "        link = \"https://gall.dcinside.com/\" + element.select(\"a\")[0]['href'].strip()\n",
        "        print(link)\n",
        "        url_list.append(link)\n",
        "        # num = element.select(\".gall_num\")[0].text\n",
        "    \n",
        "    for a in url_list:\n",
        "      with urllib.request.urlopen(url) as url:\n",
        "       doc = url.read()\n",
        "       soup = BeautifulSoup(doc, \"html.parser\")\n",
        "\n",
        "    \n",
        " \n",
        "#검색할때 설정해줘야할 것들\n",
        "dc_id = \"vr_games_xuq\"\n",
        "keyword = \"게임\"\n",
        " \n",
        "article_parse(dc_id, keyword)"
      ],
      "metadata": {
        "colab": {
          "base_uri": "https://localhost:8080/",
          "height": 721
        },
        "id": "0P8BdrdJOX_j",
        "outputId": "71775e48-713e-4823-968f-20acba78383d"
      },
      "execution_count": null,
      "outputs": [
        {
          "output_type": "stream",
          "name": "stdout",
          "text": [
            "https://gall.dcinside.com//mgallery/board/view/?id=vr_games_xuq&no=447139&s_type=search_subject_memo&s_keyword=게임&page=1\n",
            "https://gall.dcinside.com//mgallery/board/view/?id=vr_games_xuq&no=447134&s_type=search_subject_memo&s_keyword=게임&page=1\n",
            "https://gall.dcinside.com//mgallery/board/view/?id=vr_games_xuq&no=447129&s_type=search_subject_memo&s_keyword=게임&page=1\n",
            "https://gall.dcinside.com//mgallery/board/view/?id=vr_games_xuq&no=447123&s_type=search_subject_memo&s_keyword=게임&page=1\n",
            "https://gall.dcinside.com//mgallery/board/view/?id=vr_games_xuq&no=447113&s_type=search_subject_memo&s_keyword=게임&page=1\n",
            "https://gall.dcinside.com//mgallery/board/view/?id=vr_games_xuq&no=447111&s_type=search_subject_memo&s_keyword=게임&page=1\n",
            "https://gall.dcinside.com//mgallery/board/view/?id=vr_games_xuq&no=447106&s_type=search_subject_memo&s_keyword=게임&page=1\n",
            "https://gall.dcinside.com//mgallery/board/view/?id=vr_games_xuq&no=447071&s_type=search_subject_memo&s_keyword=게임&page=1\n",
            "https://gall.dcinside.com//mgallery/board/view/?id=vr_games_xuq&no=447068&s_type=search_subject_memo&s_keyword=게임&page=1\n",
            "https://gall.dcinside.com//mgallery/board/view/?id=vr_games_xuq&no=447065&s_type=search_subject_memo&s_keyword=게임&page=1\n",
            "https://gall.dcinside.com//mgallery/board/view/?id=vr_games_xuq&no=447064&s_type=search_subject_memo&s_keyword=게임&page=1\n",
            "https://gall.dcinside.com//mgallery/board/view/?id=vr_games_xuq&no=447061&s_type=search_subject_memo&s_keyword=게임&page=1\n",
            "https://gall.dcinside.com//mgallery/board/view/?id=vr_games_xuq&no=447058&s_type=search_subject_memo&s_keyword=게임&page=1\n",
            "https://gall.dcinside.com//mgallery/board/view/?id=vr_games_xuq&no=447049&s_type=search_subject_memo&s_keyword=게임&page=1\n",
            "https://gall.dcinside.com//mgallery/board/view/?id=vr_games_xuq&no=447039&s_type=search_subject_memo&s_keyword=게임&page=1\n",
            "https://gall.dcinside.com//mgallery/board/view/?id=vr_games_xuq&no=447028&s_type=search_subject_memo&s_keyword=게임&page=1\n",
            "https://gall.dcinside.com//mgallery/board/view/?id=vr_games_xuq&no=447015&s_type=search_subject_memo&s_keyword=게임&page=1\n",
            "https://gall.dcinside.com//mgallery/board/view/?id=vr_games_xuq&no=447003&s_type=search_subject_memo&s_keyword=게임&page=1\n",
            "https://gall.dcinside.com//mgallery/board/view/?id=vr_games_xuq&no=447002&s_type=search_subject_memo&s_keyword=게임&page=1\n"
          ]
        },
        {
          "output_type": "error",
          "ename": "UnicodeEncodeError",
          "evalue": "ignored",
          "traceback": [
            "\u001b[0;31m---------------------------------------------------------------------------\u001b[0m",
            "\u001b[0;31mUnicodeEncodeError\u001b[0m                        Traceback (most recent call last)",
            "\u001b[0;32m<ipython-input-56-3e9e03a9dfde>\u001b[0m in \u001b[0;36m<module>\u001b[0;34m\u001b[0m\n\u001b[1;32m     74\u001b[0m \u001b[0mkeyword\u001b[0m \u001b[0;34m=\u001b[0m \u001b[0;34m\"게임\"\u001b[0m\u001b[0;34m\u001b[0m\u001b[0;34m\u001b[0m\u001b[0m\n\u001b[1;32m     75\u001b[0m \u001b[0;34m\u001b[0m\u001b[0m\n\u001b[0;32m---> 76\u001b[0;31m \u001b[0marticle_parse\u001b[0m\u001b[0;34m(\u001b[0m\u001b[0mdc_id\u001b[0m\u001b[0;34m,\u001b[0m \u001b[0mkeyword\u001b[0m\u001b[0;34m)\u001b[0m\u001b[0;34m\u001b[0m\u001b[0;34m\u001b[0m\u001b[0m\n\u001b[0m",
            "\u001b[0;32m<ipython-input-56-3e9e03a9dfde>\u001b[0m in \u001b[0;36marticle_parse\u001b[0;34m(dc_id, keyword)\u001b[0m\n\u001b[1;32m     64\u001b[0m \u001b[0;34m\u001b[0m\u001b[0m\n\u001b[1;32m     65\u001b[0m     \u001b[0;32mfor\u001b[0m \u001b[0ma\u001b[0m \u001b[0;32min\u001b[0m \u001b[0murl_list\u001b[0m\u001b[0;34m:\u001b[0m\u001b[0;34m\u001b[0m\u001b[0;34m\u001b[0m\u001b[0m\n\u001b[0;32m---> 66\u001b[0;31m       \u001b[0;32mwith\u001b[0m \u001b[0murllib\u001b[0m\u001b[0;34m.\u001b[0m\u001b[0mrequest\u001b[0m\u001b[0;34m.\u001b[0m\u001b[0murlopen\u001b[0m\u001b[0;34m(\u001b[0m\u001b[0murl\u001b[0m\u001b[0;34m)\u001b[0m \u001b[0;32mas\u001b[0m \u001b[0murl\u001b[0m\u001b[0;34m:\u001b[0m\u001b[0;34m\u001b[0m\u001b[0;34m\u001b[0m\u001b[0m\n\u001b[0m\u001b[1;32m     67\u001b[0m        \u001b[0mdoc\u001b[0m \u001b[0;34m=\u001b[0m \u001b[0murl\u001b[0m\u001b[0;34m.\u001b[0m\u001b[0mread\u001b[0m\u001b[0;34m(\u001b[0m\u001b[0;34m)\u001b[0m\u001b[0;34m\u001b[0m\u001b[0;34m\u001b[0m\u001b[0m\n\u001b[1;32m     68\u001b[0m        \u001b[0msoup\u001b[0m \u001b[0;34m=\u001b[0m \u001b[0mBeautifulSoup\u001b[0m\u001b[0;34m(\u001b[0m\u001b[0mdoc\u001b[0m\u001b[0;34m,\u001b[0m \u001b[0;34m\"html.parser\"\u001b[0m\u001b[0;34m)\u001b[0m\u001b[0;34m\u001b[0m\u001b[0;34m\u001b[0m\u001b[0m\n",
            "\u001b[0;32m/usr/lib/python3.7/urllib/request.py\u001b[0m in \u001b[0;36murlopen\u001b[0;34m(url, data, timeout, cafile, capath, cadefault, context)\u001b[0m\n\u001b[1;32m    220\u001b[0m     \u001b[0;32melse\u001b[0m\u001b[0;34m:\u001b[0m\u001b[0;34m\u001b[0m\u001b[0;34m\u001b[0m\u001b[0m\n\u001b[1;32m    221\u001b[0m         \u001b[0mopener\u001b[0m \u001b[0;34m=\u001b[0m \u001b[0m_opener\u001b[0m\u001b[0;34m\u001b[0m\u001b[0;34m\u001b[0m\u001b[0m\n\u001b[0;32m--> 222\u001b[0;31m     \u001b[0;32mreturn\u001b[0m \u001b[0mopener\u001b[0m\u001b[0;34m.\u001b[0m\u001b[0mopen\u001b[0m\u001b[0;34m(\u001b[0m\u001b[0murl\u001b[0m\u001b[0;34m,\u001b[0m \u001b[0mdata\u001b[0m\u001b[0;34m,\u001b[0m \u001b[0mtimeout\u001b[0m\u001b[0;34m)\u001b[0m\u001b[0;34m\u001b[0m\u001b[0;34m\u001b[0m\u001b[0m\n\u001b[0m\u001b[1;32m    223\u001b[0m \u001b[0;34m\u001b[0m\u001b[0m\n\u001b[1;32m    224\u001b[0m \u001b[0;32mdef\u001b[0m \u001b[0minstall_opener\u001b[0m\u001b[0;34m(\u001b[0m\u001b[0mopener\u001b[0m\u001b[0;34m)\u001b[0m\u001b[0;34m:\u001b[0m\u001b[0;34m\u001b[0m\u001b[0;34m\u001b[0m\u001b[0m\n",
            "\u001b[0;32m/usr/lib/python3.7/urllib/request.py\u001b[0m in \u001b[0;36mopen\u001b[0;34m(self, fullurl, data, timeout)\u001b[0m\n\u001b[1;32m    523\u001b[0m             \u001b[0mreq\u001b[0m \u001b[0;34m=\u001b[0m \u001b[0mmeth\u001b[0m\u001b[0;34m(\u001b[0m\u001b[0mreq\u001b[0m\u001b[0;34m)\u001b[0m\u001b[0;34m\u001b[0m\u001b[0;34m\u001b[0m\u001b[0m\n\u001b[1;32m    524\u001b[0m \u001b[0;34m\u001b[0m\u001b[0m\n\u001b[0;32m--> 525\u001b[0;31m         \u001b[0mresponse\u001b[0m \u001b[0;34m=\u001b[0m \u001b[0mself\u001b[0m\u001b[0;34m.\u001b[0m\u001b[0m_open\u001b[0m\u001b[0;34m(\u001b[0m\u001b[0mreq\u001b[0m\u001b[0;34m,\u001b[0m \u001b[0mdata\u001b[0m\u001b[0;34m)\u001b[0m\u001b[0;34m\u001b[0m\u001b[0;34m\u001b[0m\u001b[0m\n\u001b[0m\u001b[1;32m    526\u001b[0m \u001b[0;34m\u001b[0m\u001b[0m\n\u001b[1;32m    527\u001b[0m         \u001b[0;31m# post-process response\u001b[0m\u001b[0;34m\u001b[0m\u001b[0;34m\u001b[0m\u001b[0;34m\u001b[0m\u001b[0m\n",
            "\u001b[0;32m/usr/lib/python3.7/urllib/request.py\u001b[0m in \u001b[0;36m_open\u001b[0;34m(self, req, data)\u001b[0m\n\u001b[1;32m    541\u001b[0m         \u001b[0mprotocol\u001b[0m \u001b[0;34m=\u001b[0m \u001b[0mreq\u001b[0m\u001b[0;34m.\u001b[0m\u001b[0mtype\u001b[0m\u001b[0;34m\u001b[0m\u001b[0;34m\u001b[0m\u001b[0m\n\u001b[1;32m    542\u001b[0m         result = self._call_chain(self.handle_open, protocol, protocol +\n\u001b[0;32m--> 543\u001b[0;31m                                   '_open', req)\n\u001b[0m\u001b[1;32m    544\u001b[0m         \u001b[0;32mif\u001b[0m \u001b[0mresult\u001b[0m\u001b[0;34m:\u001b[0m\u001b[0;34m\u001b[0m\u001b[0;34m\u001b[0m\u001b[0m\n\u001b[1;32m    545\u001b[0m             \u001b[0;32mreturn\u001b[0m \u001b[0mresult\u001b[0m\u001b[0;34m\u001b[0m\u001b[0;34m\u001b[0m\u001b[0m\n",
            "\u001b[0;32m/usr/lib/python3.7/urllib/request.py\u001b[0m in \u001b[0;36m_call_chain\u001b[0;34m(self, chain, kind, meth_name, *args)\u001b[0m\n\u001b[1;32m    501\u001b[0m         \u001b[0;32mfor\u001b[0m \u001b[0mhandler\u001b[0m \u001b[0;32min\u001b[0m \u001b[0mhandlers\u001b[0m\u001b[0;34m:\u001b[0m\u001b[0;34m\u001b[0m\u001b[0;34m\u001b[0m\u001b[0m\n\u001b[1;32m    502\u001b[0m             \u001b[0mfunc\u001b[0m \u001b[0;34m=\u001b[0m \u001b[0mgetattr\u001b[0m\u001b[0;34m(\u001b[0m\u001b[0mhandler\u001b[0m\u001b[0;34m,\u001b[0m \u001b[0mmeth_name\u001b[0m\u001b[0;34m)\u001b[0m\u001b[0;34m\u001b[0m\u001b[0;34m\u001b[0m\u001b[0m\n\u001b[0;32m--> 503\u001b[0;31m             \u001b[0mresult\u001b[0m \u001b[0;34m=\u001b[0m \u001b[0mfunc\u001b[0m\u001b[0;34m(\u001b[0m\u001b[0;34m*\u001b[0m\u001b[0margs\u001b[0m\u001b[0;34m)\u001b[0m\u001b[0;34m\u001b[0m\u001b[0;34m\u001b[0m\u001b[0m\n\u001b[0m\u001b[1;32m    504\u001b[0m             \u001b[0;32mif\u001b[0m \u001b[0mresult\u001b[0m \u001b[0;32mis\u001b[0m \u001b[0;32mnot\u001b[0m \u001b[0;32mNone\u001b[0m\u001b[0;34m:\u001b[0m\u001b[0;34m\u001b[0m\u001b[0;34m\u001b[0m\u001b[0m\n\u001b[1;32m    505\u001b[0m                 \u001b[0;32mreturn\u001b[0m \u001b[0mresult\u001b[0m\u001b[0;34m\u001b[0m\u001b[0;34m\u001b[0m\u001b[0m\n",
            "\u001b[0;32m/usr/lib/python3.7/urllib/request.py\u001b[0m in \u001b[0;36mhttps_open\u001b[0;34m(self, req)\u001b[0m\n\u001b[1;32m   1391\u001b[0m         \u001b[0;32mdef\u001b[0m \u001b[0mhttps_open\u001b[0m\u001b[0;34m(\u001b[0m\u001b[0mself\u001b[0m\u001b[0;34m,\u001b[0m \u001b[0mreq\u001b[0m\u001b[0;34m)\u001b[0m\u001b[0;34m:\u001b[0m\u001b[0;34m\u001b[0m\u001b[0;34m\u001b[0m\u001b[0m\n\u001b[1;32m   1392\u001b[0m             return self.do_open(http.client.HTTPSConnection, req,\n\u001b[0;32m-> 1393\u001b[0;31m                 context=self._context, check_hostname=self._check_hostname)\n\u001b[0m\u001b[1;32m   1394\u001b[0m \u001b[0;34m\u001b[0m\u001b[0m\n\u001b[1;32m   1395\u001b[0m         \u001b[0mhttps_request\u001b[0m \u001b[0;34m=\u001b[0m \u001b[0mAbstractHTTPHandler\u001b[0m\u001b[0;34m.\u001b[0m\u001b[0mdo_request_\u001b[0m\u001b[0;34m\u001b[0m\u001b[0;34m\u001b[0m\u001b[0m\n",
            "\u001b[0;32m/usr/lib/python3.7/urllib/request.py\u001b[0m in \u001b[0;36mdo_open\u001b[0;34m(self, http_class, req, **http_conn_args)\u001b[0m\n\u001b[1;32m   1348\u001b[0m             \u001b[0;32mtry\u001b[0m\u001b[0;34m:\u001b[0m\u001b[0;34m\u001b[0m\u001b[0;34m\u001b[0m\u001b[0m\n\u001b[1;32m   1349\u001b[0m                 h.request(req.get_method(), req.selector, req.data, headers,\n\u001b[0;32m-> 1350\u001b[0;31m                           encode_chunked=req.has_header('Transfer-encoding'))\n\u001b[0m\u001b[1;32m   1351\u001b[0m             \u001b[0;32mexcept\u001b[0m \u001b[0mOSError\u001b[0m \u001b[0;32mas\u001b[0m \u001b[0merr\u001b[0m\u001b[0;34m:\u001b[0m \u001b[0;31m# timeout error\u001b[0m\u001b[0;34m\u001b[0m\u001b[0;34m\u001b[0m\u001b[0m\n\u001b[1;32m   1352\u001b[0m                 \u001b[0;32mraise\u001b[0m \u001b[0mURLError\u001b[0m\u001b[0;34m(\u001b[0m\u001b[0merr\u001b[0m\u001b[0;34m)\u001b[0m\u001b[0;34m\u001b[0m\u001b[0;34m\u001b[0m\u001b[0m\n",
            "\u001b[0;32m/usr/lib/python3.7/http/client.py\u001b[0m in \u001b[0;36mrequest\u001b[0;34m(self, method, url, body, headers, encode_chunked)\u001b[0m\n\u001b[1;32m   1279\u001b[0m                 encode_chunked=False):\n\u001b[1;32m   1280\u001b[0m         \u001b[0;34m\"\"\"Send a complete request to the server.\"\"\"\u001b[0m\u001b[0;34m\u001b[0m\u001b[0;34m\u001b[0m\u001b[0m\n\u001b[0;32m-> 1281\u001b[0;31m         \u001b[0mself\u001b[0m\u001b[0;34m.\u001b[0m\u001b[0m_send_request\u001b[0m\u001b[0;34m(\u001b[0m\u001b[0mmethod\u001b[0m\u001b[0;34m,\u001b[0m \u001b[0murl\u001b[0m\u001b[0;34m,\u001b[0m \u001b[0mbody\u001b[0m\u001b[0;34m,\u001b[0m \u001b[0mheaders\u001b[0m\u001b[0;34m,\u001b[0m \u001b[0mencode_chunked\u001b[0m\u001b[0;34m)\u001b[0m\u001b[0;34m\u001b[0m\u001b[0;34m\u001b[0m\u001b[0m\n\u001b[0m\u001b[1;32m   1282\u001b[0m \u001b[0;34m\u001b[0m\u001b[0m\n\u001b[1;32m   1283\u001b[0m     \u001b[0;32mdef\u001b[0m \u001b[0m_send_request\u001b[0m\u001b[0;34m(\u001b[0m\u001b[0mself\u001b[0m\u001b[0;34m,\u001b[0m \u001b[0mmethod\u001b[0m\u001b[0;34m,\u001b[0m \u001b[0murl\u001b[0m\u001b[0;34m,\u001b[0m \u001b[0mbody\u001b[0m\u001b[0;34m,\u001b[0m \u001b[0mheaders\u001b[0m\u001b[0;34m,\u001b[0m \u001b[0mencode_chunked\u001b[0m\u001b[0;34m)\u001b[0m\u001b[0;34m:\u001b[0m\u001b[0;34m\u001b[0m\u001b[0;34m\u001b[0m\u001b[0m\n",
            "\u001b[0;32m/usr/lib/python3.7/http/client.py\u001b[0m in \u001b[0;36m_send_request\u001b[0;34m(self, method, url, body, headers, encode_chunked)\u001b[0m\n\u001b[1;32m   1290\u001b[0m             \u001b[0mskips\u001b[0m\u001b[0;34m[\u001b[0m\u001b[0;34m'skip_accept_encoding'\u001b[0m\u001b[0;34m]\u001b[0m \u001b[0;34m=\u001b[0m \u001b[0;36m1\u001b[0m\u001b[0;34m\u001b[0m\u001b[0;34m\u001b[0m\u001b[0m\n\u001b[1;32m   1291\u001b[0m \u001b[0;34m\u001b[0m\u001b[0m\n\u001b[0;32m-> 1292\u001b[0;31m         \u001b[0mself\u001b[0m\u001b[0;34m.\u001b[0m\u001b[0mputrequest\u001b[0m\u001b[0;34m(\u001b[0m\u001b[0mmethod\u001b[0m\u001b[0;34m,\u001b[0m \u001b[0murl\u001b[0m\u001b[0;34m,\u001b[0m \u001b[0;34m**\u001b[0m\u001b[0mskips\u001b[0m\u001b[0;34m)\u001b[0m\u001b[0;34m\u001b[0m\u001b[0;34m\u001b[0m\u001b[0m\n\u001b[0m\u001b[1;32m   1293\u001b[0m \u001b[0;34m\u001b[0m\u001b[0m\n\u001b[1;32m   1294\u001b[0m         \u001b[0;31m# chunked encoding will happen if HTTP/1.1 is used and either\u001b[0m\u001b[0;34m\u001b[0m\u001b[0;34m\u001b[0m\u001b[0;34m\u001b[0m\u001b[0m\n",
            "\u001b[0;32m/usr/lib/python3.7/http/client.py\u001b[0m in \u001b[0;36mputrequest\u001b[0;34m(self, method, url, skip_host, skip_accept_encoding)\u001b[0m\n\u001b[1;32m   1128\u001b[0m         \u001b[0mrequest\u001b[0m \u001b[0;34m=\u001b[0m \u001b[0;34m'%s %s %s'\u001b[0m \u001b[0;34m%\u001b[0m \u001b[0;34m(\u001b[0m\u001b[0mmethod\u001b[0m\u001b[0;34m,\u001b[0m \u001b[0murl\u001b[0m\u001b[0;34m,\u001b[0m \u001b[0mself\u001b[0m\u001b[0;34m.\u001b[0m\u001b[0m_http_vsn_str\u001b[0m\u001b[0;34m)\u001b[0m\u001b[0;34m\u001b[0m\u001b[0;34m\u001b[0m\u001b[0m\n\u001b[1;32m   1129\u001b[0m \u001b[0;34m\u001b[0m\u001b[0m\n\u001b[0;32m-> 1130\u001b[0;31m         \u001b[0mself\u001b[0m\u001b[0;34m.\u001b[0m\u001b[0m_output\u001b[0m\u001b[0;34m(\u001b[0m\u001b[0mself\u001b[0m\u001b[0;34m.\u001b[0m\u001b[0m_encode_request\u001b[0m\u001b[0;34m(\u001b[0m\u001b[0mrequest\u001b[0m\u001b[0;34m)\u001b[0m\u001b[0;34m)\u001b[0m\u001b[0;34m\u001b[0m\u001b[0;34m\u001b[0m\u001b[0m\n\u001b[0m\u001b[1;32m   1131\u001b[0m \u001b[0;34m\u001b[0m\u001b[0m\n\u001b[1;32m   1132\u001b[0m         \u001b[0;32mif\u001b[0m \u001b[0mself\u001b[0m\u001b[0;34m.\u001b[0m\u001b[0m_http_vsn\u001b[0m \u001b[0;34m==\u001b[0m \u001b[0;36m11\u001b[0m\u001b[0;34m:\u001b[0m\u001b[0;34m\u001b[0m\u001b[0;34m\u001b[0m\u001b[0m\n",
            "\u001b[0;32m/usr/lib/python3.7/http/client.py\u001b[0m in \u001b[0;36m_encode_request\u001b[0;34m(self, request)\u001b[0m\n\u001b[1;32m   1208\u001b[0m     \u001b[0;32mdef\u001b[0m \u001b[0m_encode_request\u001b[0m\u001b[0;34m(\u001b[0m\u001b[0mself\u001b[0m\u001b[0;34m,\u001b[0m \u001b[0mrequest\u001b[0m\u001b[0;34m)\u001b[0m\u001b[0;34m:\u001b[0m\u001b[0;34m\u001b[0m\u001b[0;34m\u001b[0m\u001b[0m\n\u001b[1;32m   1209\u001b[0m         \u001b[0;31m# ASCII also helps prevent CVE-2019-9740.\u001b[0m\u001b[0;34m\u001b[0m\u001b[0;34m\u001b[0m\u001b[0;34m\u001b[0m\u001b[0m\n\u001b[0;32m-> 1210\u001b[0;31m         \u001b[0;32mreturn\u001b[0m \u001b[0mrequest\u001b[0m\u001b[0;34m.\u001b[0m\u001b[0mencode\u001b[0m\u001b[0;34m(\u001b[0m\u001b[0;34m'ascii'\u001b[0m\u001b[0;34m)\u001b[0m\u001b[0;34m\u001b[0m\u001b[0;34m\u001b[0m\u001b[0m\n\u001b[0m\u001b[1;32m   1211\u001b[0m \u001b[0;34m\u001b[0m\u001b[0m\n\u001b[1;32m   1212\u001b[0m     \u001b[0;32mdef\u001b[0m \u001b[0m_validate_method\u001b[0m\u001b[0;34m(\u001b[0m\u001b[0mself\u001b[0m\u001b[0;34m,\u001b[0m \u001b[0mmethod\u001b[0m\u001b[0;34m)\u001b[0m\u001b[0;34m:\u001b[0m\u001b[0;34m\u001b[0m\u001b[0;34m\u001b[0m\u001b[0m\n",
            "\u001b[0;31mUnicodeEncodeError\u001b[0m: 'ascii' codec can't encode characters in position 87-88: ordinal not in range(128)"
          ]
        }
      ]
    }
  ]
}